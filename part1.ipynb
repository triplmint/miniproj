{
 "cells": [
  {
   "cell_type": "markdown",
   "metadata": {},
   "source": [
    "## Assumptions and Constants\n",
    "Let's use th metal ABR core because it sounds, well, metal."
   ]
  },
  {
   "cell_type": "code",
   "execution_count": 1,
   "metadata": {},
   "outputs": [],
   "source": [
    "# Reactor constants\n",
    "beta_eff = 0.00334\n",
    "prompt_lifetime = 0.38"
   ]
  },
  {
   "cell_type": "markdown",
   "metadata": {
    "slideshow": {
     "slide_type": "slide"
    }
   },
   "source": [
    "Na void positive reactivity due to spectral hardening"
   ]
  },
  {
   "cell_type": "markdown",
   "metadata": {
    "slideshow": {
     "slide_type": "fragment"
    }
   },
   "source": [
    "Less fast neutrons, less absorption (?)"
   ]
  },
  {
   "cell_type": "markdown",
   "metadata": {
    "slideshow": {
     "slide_type": "fragment"
    }
   },
   "source": [
    "![image](img/Pu_239_cross_section.png)"
   ]
  },
  {
   "cell_type": "markdown",
   "metadata": {},
   "source": [
    "## Operative word is \"Local\"\n",
    "\n",
    "* Void worth $4.44 assuming \"flowing sodium completely voided in ALL active and above-core regions\" ([Argonne's Fast Reactor Physics - 2](https://www.nrc.gov/docs/ML1914/ML19148A801.pdf))\n",
    "* How to apply this for local voiding?\n",
    "* Ultimately want reactivty as a function of sodium density, i.e. $k(\\rho_{Na})$"
   ]
  },
  {
   "cell_type": "markdown",
   "metadata": {},
   "source": [
    "## Driven by scattering out of fast spectrum\n",
    "Assumptions to derive $k(\\rho_{Na})$\n",
    "* Assume two group equation\n",
    "* Infinite reactor (or perfect reflector)\n",
    "* All relevant fissions occur in fast spectrum (terrible assumption...)\n",
    "* Everything scattered out of fast spectrum is absorbed (also pretty bad)"
   ]
  },
  {
   "cell_type": "markdown",
   "metadata": {},
   "source": [
    "## Two group equation\n",
    "Group 1 - fast spectrum\n",
    "\n",
    "Group 2 - everything else\n",
    "$$\n",
    "\\frac{1}{k}\\nu_1 \\Sigma_f \\phi_1 - \\Sigma_{a1} \\phi_1 - \\Sigma_{1\\rightarrow 2}\\phi_1 = 0 \\\\\n",
    "\\Sigma_{1 \\rightarrow 2} \\phi_1 - \\Sigma_{a2} \\phi_2  = 0\n",
    "$$"
   ]
  },
  {
   "cell_type": "markdown",
   "metadata": {},
   "source": [
    "Solving for k in the group 1 equation\n",
    "$$\n",
    "k = \\frac{\\nu_1 \\Sigma_{f1}}{\\Sigma_{a1} + \\Sigma_{1 \\rightarrow 2}} \n",
    "$$"
   ]
  },
  {
   "cell_type": "markdown",
   "metadata": {},
   "source": [
    "Using group 2 to make a statement about $\\Sigma_{a1}$, noting that $\\Sigma_{a2} \\propto \\Sigma_{a1}$\n",
    "$$\n",
    "\\Sigma_{a2}\\phi_2 = \\Sigma_{1 \\rightarrow 2} \\phi_1 = C_a \\Sigma_{a1}\\phi1\\\\\n",
    "\\Sigma_{a1} = \\frac{\\Sigma_{1 \\rightarrow 2} \\phi_1}{C_a \\phi_2}\n",
    "$$\n",
    "where $C_a$ is a proportionality constant."
   ]
  },
  {
   "cell_type": "markdown",
   "metadata": {},
   "source": [
    "Substituting $\\Sigma_{a1}$ into the expression for k\n",
    "\n",
    "$$\n",
    "k = \\frac{\\nu_1 \\Sigma_{f1}}{\\frac{\\Sigma_{1 \\rightarrow 2} \\phi_1}{C_a \\phi_2} + \\Sigma_{1 \\rightarrow 2}}\n",
    "= \\frac{\\nu_1 \\Sigma_{f1}}{\\Sigma_{1 \\rightarrow 2}[\\frac{\\phi_1}{C_a \\phi_2} + 1]}\n",
    "\n",
    "= \\frac{\\nu_1\\Sigma_{f1}}{\\frac{\\rho_{Na}A_v}{M_{Na}}\\sigma_{1 \\rightarrow 2}[\\frac{\\phi_1}{C_a \\phi_2} + 1]}\n",
    "$$\n"
   ]
  },
  {
   "cell_type": "markdown",
   "metadata": {},
   "source": [
    "$$\n",
    "k = \\frac{\\nu_1 \\Sigma_{f1}}{\\Sigma_{a1} + \\Sigma_{1 \\rightarrow 2}}\n",
    "\n",
    "= \\frac{\\nu_1\\Sigma_{f1}}{\\Sigma_{a1} + \\frac{\\rho_{Na}A_v}{M_{Na}}\\sigma_{1 \\rightarrow 2}}\n",
    "\n",
    "= \\frac{A}{B + C\\rho_{Na}}\n",
    "$$\n",
    "\n"
   ]
  },
  {
   "cell_type": "markdown",
   "metadata": {},
   "source": [
    "$$\n",
    "k(\\Sigma_{a1} + \\Sigma_{1 \\rightarrow 2}) = \\nu_1 \\Sigma_{f1}\n",
    "$$\n",
    "$$\n",
    "k\\left(\\frac{\\Sigma_{a1}}{\\nu_1 \\Sigma_{f1}} + \\frac{\\Sigma_{1 \\rightarrow 2}}{\\nu_1 \\Sigma_{f1}}\\right) = 1\n",
    "$$\n",
    "$$\n",
    "k\\left(\\frac{\\Sigma_{a1}}{\\nu_1 \\Sigma_{f1}} + \\frac{\\rho_{Na}A_v}{M_{Na}}\\frac{\\sigma_{1 \\rightarrow 2}}{\\nu_1 \\Sigma_{f1}}\\right) = 1\n",
    "$$\n",
    "$$\n",
    "k\\left(A + B\\rho_{Na}\\right) = 1\n",
    "$$\n"
   ]
  },
  {
   "cell_type": "markdown",
   "metadata": {},
   "source": []
  },
  {
   "cell_type": "markdown",
   "metadata": {},
   "source": [
    "Assuming all other values are independent of $\\rho_{Na}$ (ignoring absorption), we can simplify this to\n",
    "$$\n",
    "k = \\frac{C}{\\rho_{Na}}\n",
    "$$\n",
    "A big leap I know, but we get the behavior: $\\rho_{Na}\\downarrow$ leads to $k \\uparrow$, which makes my tummy feel a little better moving forward with this assumption."
   ]
  },
  {
   "cell_type": "markdown",
   "metadata": {},
   "source": [
    "To solve for C, we'll use the $4.44 number from above. NOW for some python (finally)"
   ]
  },
  {
   "cell_type": "code",
   "execution_count": 12,
   "metadata": {},
   "outputs": [
    {
     "data": {
      "text/plain": [
       "\"A brief note regarding python comments.\\n\\nMy rule of thumb is to write comments according to my audience.\\nIn many cases, my audience is engineers, and therefore my comments\\nare extensive. But comments, like lines of code, represent inventory\\nof an application. As your inventory goes up, your maintenance costs\\nincrease as well. Comments require maintenance just like source code\\nin the case of refactoring. If the code is obvious or the audience is\\nsavvy, comments oftentimes are not necessary. However, I'll be using\\nlots of comments assuming my audience is primarily engineers. Also\\ncomputational code is confusing so comments are very important.\\nAgain, you'll see humor in my comments because life's too short I\\nguess. And python is notorious for funny things.\\n\\nAlso I prefer using google's docstring format which is what you see\\nhere. I also like using black, pylint, and flake8 to keep my code tidy,\\nbut I'm not sure how to get those to work with a jupyter notebook.\\n\""
      ]
     },
     "execution_count": 12,
     "metadata": {},
     "output_type": "execute_result"
    }
   ],
   "source": [
    "\"\"\"A brief note regarding python comments.\n",
    "\n",
    "My rule of thumb is to write comments according to my audience.\n",
    "In many cases, my audience is engineers, and therefore my comments\n",
    "are extensive. But comments, like lines of code, represent inventory\n",
    "of an application. As your inventory goes up, your maintenance costs\n",
    "increase as well. Comments require maintenance just like source code\n",
    "in the case of refactoring. If the code is obvious or the audience is\n",
    "savvy, comments oftentimes are not necessary. However, I'll be using\n",
    "lots of comments assuming my audience is primarily engineers. Also\n",
    "computational code is confusing so comments are very important.\n",
    "Again, you'll see humor in my comments because life's too short I\n",
    "guess. And python is notorious for funny things.\n",
    "\n",
    "Also I prefer using google's docstring format which is what you see\n",
    "here. I also like using black, pylint, and flake8 to keep my code tidy,\n",
    "but I'm not sure how to get those to work with a jupyter notebook.\n",
    "\"\"\""
   ]
  },
  {
   "cell_type": "code",
   "execution_count": 13,
   "metadata": {},
   "outputs": [
    {
     "name": "stdout",
     "output_type": "stream",
     "text": [
      "Whole core void multiplication factor:  1.015\n"
     ]
    }
   ],
   "source": [
    "# ABR constants assuming metal core and BOC\n",
    "void_worth = 4.44 # Dollars\n",
    "beta_eff = 0.0034 # Delayed neutron fraction for metal core\n",
    "\n",
    "# Reactivity as a function of worth (in dollars)\n",
    "reactivity = void_worth * beta_eff\n",
    "\n",
    "# Expression for multiplication factor in terms of reactivity\n",
    "k = 1 / (1-reactivity)\n",
    "print (\"Whole core void multiplication factor: \", '%.4g' % k)"
   ]
  },
  {
   "cell_type": "markdown",
   "metadata": {},
   "source": [
    "Density of sodium at saturation ($\\tilde 1100^o C$ atmospheric pressure) is $0.168 \\frac{kg}{m^3}$. Solving for C:"
   ]
  },
  {
   "cell_type": "code",
   "execution_count": 33,
   "metadata": {},
   "outputs": [],
   "source": [
    "import pint\n",
    "\n",
    "# I've had success using pint to keep me from making dumb unit errors.\n",
    "# So I'll try not to embarass myself in front of yall too badly.\n",
    "ureg = pint.UnitRegistry()\n",
    "Quant = pint.Quantity\n",
    "\n",
    "def round_quant(quantity, sig_fig=4):\n",
    "    \"\"\"Return pint quantity reduced to given significant digits as a string.\"\"\"\n",
    "    value = round(\n",
    "        quantity.m, \n",
    "        sig_fig-int(floor(log10(abs(quantity.m)))) - 1\n",
    "    )\n",
    "    return str(value) + ' ' + str(quantity.units)\n"
   ]
  },
  {
   "cell_type": "code",
   "execution_count": 34,
   "metadata": {},
   "outputs": [
    {
     "name": "stdout",
     "output_type": "stream",
     "text": [
      "Multiplaction factor ratio as a function of sodium density:  0.1706 kilogram / meter ** 3\n"
     ]
    }
   ],
   "source": [
    "# Solving for C to get our density factor\n",
    "rho_na_vapor = Quant(0.168, 'kg/m^3')\n",
    "C = k*rho_na_vapor\n",
    "\n",
    "print(\n",
    "    \"Multiplaction factor ratio as a function of sodium density: \",\n",
    "    round_quant(C)\n",
    ")\n"
   ]
  },
  {
   "cell_type": "markdown",
   "metadata": {},
   "source": [
    "Now we can return reactivity as a function of the amount of voided sodium inside of one assembly. \n",
    "This is my interpretation of \"Local\" for the project.\n",
    "A subchannel code (e.g. NUPAC) could be used to generate this total void fraction. As it is I've spent a lot of time on this miniproject and won't try and build a subchannel solver right now."
   ]
  },
  {
   "cell_type": "code",
   "execution_count": null,
   "metadata": {},
   "outputs": [],
   "source": [
    "def local_reactivity(void_fraction):\n",
    "    \"\"\"Calculate the local reactivity of an assembly.\n",
    "    \n",
    "    Using the void worth of the active whole-core, calculate the\n",
    "    reactivity insertion from a fraction of void within a single\n",
    "    assembly using the following relationships:\n",
    "    rho = k - 1 / k\n",
    "    k = C / rho_na\n",
    "    rho_na = (Mass of liquid + mass of vapor) / Total core volume\n",
    "\n",
    "    Args:\n",
    "        void_fraction (float): Fraction of a single assembly that is \n",
    "        vapor.\n",
    "        1.0 = Entire assembly is vapor\n",
    "        0.0 = Enteire assembly is liquid\n",
    "\n",
    "    Returns:\n",
    "        float: Local reactivity insertion from the local voiding of a\n",
    "        single assembly.\n",
    "    \"\"\"\n",
    "    \n"
   ]
  },
  {
   "cell_type": "markdown",
   "metadata": {},
   "source": [
    "To get an expression for $\\rho_{Na}$ we'll need some geomtry information, and more assumptions of course."
   ]
  },
  {
   "cell_type": "code",
   "execution_count": 35,
   "metadata": {},
   "outputs": [
    {
     "name": "stdout",
     "output_type": "stream",
     "text": [
      "Assembly volume in active core region:  55040.0 centimeter ** 3\n",
      "Total pin volume in active core region:  7898.0 centimeter ** 3\n",
      "Sodium volume in active core region:  47140.0 centimeter ** 3\n"
     ]
    }
   ],
   "source": [
    "import pint\n",
    "import numpy as np\n",
    "from math import log10, floor\n",
    "\n",
    "# I've had success using pint to keep me from making dumb unit errors.\n",
    "# So I'll try not to embarass myself in front of yall too badly.\n",
    "ureg = pint.UnitRegistry()\n",
    "\n",
    "# Calculate the total volume of an assembly for 217 hexagonal assembly\n",
    "# with 8 pins along each side, only considering the active core region\n",
    "pins_per_side = 8\n",
    "pitch = 16.142 * ureg.cm\n",
    "assembly_side = pitch\n",
    "active_core_height = 81.3 * ureg.cm\n",
    "assembly_volume = float(3*np.sqrt(3)/2)*assembly_side**2 * active_core_height\n",
    "\n",
    "# Calculate the total volume of fuel pins in an assembly\n",
    "total_pins = 217\n",
    "pin_diameter = 0.755 * ureg.cm\n",
    "pin_volume = 3.1415 * (pin_diameter/2)**2 * active_core_height\n",
    "total_pin_volume = pin_volume * total_pins\n",
    "\n",
    "# Calculate the sodium volume in the active core region\n",
    "sodium_volume = assembly_volume - total_pin_volume\n",
    "\n",
    "print(\n",
    "    \"Assembly volume in active core region: \", \n",
    "    round_quant(assembly_volume, 4)\n",
    ")\n",
    "print(\n",
    "    \"Total pin volume in active core region: \", \n",
    "    round_quant(total_pin_volume, 4)\n",
    ")\n",
    "print(\n",
    "    \"Sodium volume in active core region: \", \n",
    "    round_quant(sodium_volume, 4)\n",
    ")"
   ]
  }
 ],
 "metadata": {
  "kernelspec": {
   "display_name": "Python 3.10.6 ('miniproj')",
   "language": "python",
   "name": "python3"
  },
  "language_info": {
   "codemirror_mode": {
    "name": "ipython",
    "version": 3
   },
   "file_extension": ".py",
   "mimetype": "text/x-python",
   "name": "python",
   "nbconvert_exporter": "python",
   "pygments_lexer": "ipython3",
   "version": "3.10.6"
  },
  "orig_nbformat": 4,
  "vscode": {
   "interpreter": {
    "hash": "9ee234d6533235b615721f382b997905935b26510caf3064cf1801eb0e2da607"
   }
  }
 },
 "nbformat": 4,
 "nbformat_minor": 2
}
