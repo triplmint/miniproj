{
 "cells": [
  {
   "cell_type": "markdown",
   "metadata": {},
   "source": [
    "## Assumptions and Constants\n",
    "Let's use th metal ABR core because it sounds, well, metal."
   ]
  },
  {
   "cell_type": "code",
   "execution_count": null,
   "metadata": {},
   "outputs": [
    {
     "name": "stdout",
     "output_type": "stream",
     "text": [
      "Let's mix and match some!\n"
     ]
    }
   ],
   "source": [
    "# Reactor constants\n",
    "beta_eff = 0.00334\n",
    "prompt_lifetime = 0.38"
   ]
  }
 ],
 "metadata": {
  "kernelspec": {
   "display_name": "Python 3.10.6 ('miniproj')",
   "language": "python",
   "name": "python3"
  },
  "language_info": {
   "codemirror_mode": {
    "name": "ipython",
    "version": 3
   },
   "file_extension": ".py",
   "mimetype": "text/x-python",
   "name": "python",
   "nbconvert_exporter": "python",
   "pygments_lexer": "ipython3",
   "version": "3.10.6"
  },
  "orig_nbformat": 4,
  "vscode": {
   "interpreter": {
    "hash": "9ee234d6533235b615721f382b997905935b26510caf3064cf1801eb0e2da607"
   }
  }
 },
 "nbformat": 4,
 "nbformat_minor": 2
}
