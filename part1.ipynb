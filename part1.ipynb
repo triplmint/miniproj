{
 "cells": [
  {
   "cell_type": "markdown",
   "metadata": {},
   "source": [
    "## Assumptions and Constants\n",
    "Let's use th metal ABR core because it sounds, well, metal."
   ]
  },
  {
   "cell_type": "code",
   "execution_count": 1,
   "metadata": {},
   "outputs": [],
   "source": [
    "# Reactor constants\n",
    "beta_eff = 0.00334\n",
    "prompt_lifetime = 0.38"
   ]
  },
  {
   "cell_type": "markdown",
   "metadata": {
    "slideshow": {
     "slide_type": "slide"
    }
   },
   "source": [
    "Na void positive reactivity due to spectral hardening"
   ]
  },
  {
   "cell_type": "markdown",
   "metadata": {
    "slideshow": {
     "slide_type": "fragment"
    }
   },
   "source": [
    "Less fast neutrons, less absorption (?)"
   ]
  },
  {
   "cell_type": "markdown",
   "metadata": {
    "slideshow": {
     "slide_type": "fragment"
    }
   },
   "source": [
    "![image](img/Pu_239_cross_section.png)"
   ]
  },
  {
   "cell_type": "markdown",
   "metadata": {},
   "source": [
    "## Operative word is \"Local\"\n",
    "\n",
    "* Void worth $4.44 assuming \"flowing sodium completely voided in ALL active and above-core regions\" ([Argonne's Fast Reactor Physics - 2](https://www.nrc.gov/docs/ML1914/ML19148A801.pdf))\n",
    "* How to apply this for local voiding?\n",
    "* Ultimately want reactivty as a function of sodium density, i.e. $k(\\rho_{Na})$"
   ]
  },
  {
   "cell_type": "markdown",
   "metadata": {},
   "source": [
    "## Driven by scattering out of fast spectrum\n",
    "Assumptions to derive $k(\\rho_{Na})$\n",
    "* Assume two group equation\n",
    "* Infinite reactor (or perfect reflector)\n",
    "* All relevant fissions occur in fast spectrum (terrible assumption...)\n",
    "* Everything scattered out of fast spectrum is absorbed (also pretty bad)"
   ]
  },
  {
   "cell_type": "markdown",
   "metadata": {},
   "source": [
    "## Two group equation\n",
    "Group 1 - fast spectrum\n",
    "\n",
    "Group 2 - everything else\n",
    "$$\n",
    "\\frac{1}{k}\\nu_1 \\Sigma_f \\phi_1 - \\Sigma_{a1} \\phi_1 - \\Sigma_{1\\rightarrow 2}\\phi_1 = 0 \\\\\n",
    "\\Sigma_{1 \\rightarrow 2} \\phi_1 - \\Sigma_{a2} \\phi_2 \n",
    "$$"
   ]
  },
  {
   "cell_type": "markdown",
   "metadata": {},
   "source": [
    "Solving for k in the group 1 equation\n",
    "$$\n",
    "k = \\frac{\\nu_1 \\Sigma_{f1}}{\\Sigma_{a1} + \\Sigma_{1 \\rightarrow 2}} \n",
    "$$"
   ]
  },
  {
   "cell_type": "markdown",
   "metadata": {},
   "source": [
    "Using group 2 to make a statement about $\\Sigma_{a1}$, noting that $\\Sigma_{a2} \\propto \\Sigma_{a1}$\n",
    "$$\n",
    "\\Sigma_{a2}\\phi_2 = \\Sigma_{1 \\rightarrow 2} \\phi_1 = C_a \\Sigma_{a1}\\phi1\\\\\n",
    "\\Sigma_{a1} = \\frac{\\Sigma_{1 \\rightarrow 2} \\phi_1}{C_a \\phi_2}\n",
    "$$\n",
    "where $C_a$ is a proportionality constant."
   ]
  },
  {
   "cell_type": "markdown",
   "metadata": {},
   "source": [
    "Substituting $\\Sigma_{a1}$ into the expression for k\n",
    "\n",
    "$$\n",
    "k = \\frac{\\nu_1 \\Sigma_{f1}}{\\frac{\\Sigma_{1 \\rightarrow 2} \\phi_1}{C_a \\phi_2} + \\Sigma_{1 \\rightarrow 2}}\n",
    "= \\frac{\\nu_1 \\Sigma_{f1}}{\\Sigma_{1 \\rightarrow 2}[\\frac{\\phi_1}{C_a \\phi_2} + 1]}\n",
    "\n",
    "= \\frac{\\nu_1\\Sigma_{f1}}{\\frac{\\rho_{Na}A_v}{M_{Na}}\\sigma_{1 \\rightarrow 2}[\\frac{\\phi_1}{C_a \\phi_2} + 1]}\n",
    "$$\n"
   ]
  },
  {
   "cell_type": "markdown",
   "metadata": {},
   "source": [
    "Assuming all other values are independent of $\\rho_{Na}$, we can simplify this to\n",
    "$$\n",
    "k = \\frac{C}{\\rho_{Na}}\n",
    "$$\n",
    "A big leap I know, but we get the behavior: $\\rho_{Na}\\downarrow$ leads to $k \\uparrow$, which means positive Na void reactivity insertion."
   ]
  },
  {
   "cell_type": "markdown",
   "metadata": {},
   "source": [
    "To solve for C, we'll use the $4.44 number from above."
   ]
  }
 ],
 "metadata": {
  "kernelspec": {
   "display_name": "Python 3.10.6 ('miniproj')",
   "language": "python",
   "name": "python3"
  },
  "language_info": {
   "codemirror_mode": {
    "name": "ipython",
    "version": 3
   },
   "file_extension": ".py",
   "mimetype": "text/x-python",
   "name": "python",
   "nbconvert_exporter": "python",
   "pygments_lexer": "ipython3",
   "version": "3.10.6"
  },
  "orig_nbformat": 4,
  "vscode": {
   "interpreter": {
    "hash": "9ee234d6533235b615721f382b997905935b26510caf3064cf1801eb0e2da607"
   }
  }
 },
 "nbformat": 4,
 "nbformat_minor": 2
}
