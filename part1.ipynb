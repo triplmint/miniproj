{
 "cells": [
  {
   "cell_type": "markdown",
   "metadata": {},
   "source": [
    "## Question 1, Part 1\n",
    "\n",
    "Determine reactivity insertion from localized flow blockage."
   ]
  },
  {
   "cell_type": "markdown",
   "metadata": {
    "slideshow": {
     "slide_type": "slide"
    }
   },
   "source": [
    "Na void positive reactivity due to spectral hardening"
   ]
  },
  {
   "cell_type": "markdown",
   "metadata": {
    "slideshow": {
     "slide_type": "fragment"
    }
   },
   "source": [
    "Less sodium density $\\rightarrow$ less scattering $\\rightarrow$ more fast neutrons $\\rightarrow$ less absorption"
   ]
  },
  {
   "cell_type": "markdown",
   "metadata": {
    "slideshow": {
     "slide_type": "fragment"
    }
   },
   "source": [
    "![image](img/Pu_239_cross_section.png)"
   ]
  },
  {
   "cell_type": "markdown",
   "metadata": {},
   "source": [
    "Operative word is \"Local\"\n",
    "\n",
    "* Void worth $4.44 assuming \"flowing sodium completely voided in ALL active and above-core regions\" ([Argonne's Fast Reactor Physics - 2](https://www.nrc.gov/docs/ML1914/ML19148A801.pdf))\n",
    "* How to apply this for local voiding?\n",
    "* Ultimately want reactivty as a function of sodium density, i.e. $k(\\rho_{Na})$"
   ]
  },
  {
   "cell_type": "markdown",
   "metadata": {},
   "source": [
    "Driven by scattering out of fast spectrum\n",
    "Assumptions to derive $k(\\rho_{Na})$\n",
    "* Assume two group equation\n",
    "* Infinite reactor (or perfect reflector)\n",
    "* All relevant fissions occur in fast spectrum (terrible assumption...)\n",
    "* Everything scattered out of fast spectrum is absorbed (also pretty bad)"
   ]
  },
  {
   "cell_type": "markdown",
   "metadata": {},
   "source": [
    "## Two group equation\n",
    "Group 1 - fast spectrum\n",
    "\n",
    "Group 2 - everything else\n",
    "$$\n",
    "\\frac{1}{k}\\nu_1 \\Sigma_f \\phi_1 - \\Sigma_{a1} \\phi_1 - \\Sigma_{1\\rightarrow 2}\\phi_1 = 0 \\\\\n",
    "\\Sigma_{1 \\rightarrow 2} \\phi_1 - \\Sigma_{a2} \\phi_2  = 0\n",
    "$$"
   ]
  },
  {
   "cell_type": "markdown",
   "metadata": {},
   "source": [
    "If we can generate a linear expression for $k(\\rho_{Na})$, we can use what know about global void worth to solve for linear constants.\n",
    "\n",
    "$$\n",
    "k(\\Sigma_{a1} + \\Sigma_{1 \\rightarrow 2}) = \\nu_1 \\Sigma_{f1}\n",
    "$$\n",
    "$$\n",
    "k\\left(\\frac{\\Sigma_{a1}}{\\nu_1 \\Sigma_{f1}} + \\frac{\\Sigma_{1 \\rightarrow 2}}{\\nu_1 \\Sigma_{f1}}\\right) = 1\n",
    "$$\n",
    "$$\n",
    "k\\left(\\frac{\\Sigma_{a1}}{\\nu_1 \\Sigma_{f1}} + \\frac{\\rho_{Na}A_v}{M_{Na}}\\frac{\\sigma_{1 \\rightarrow 2}}{\\nu_1 \\Sigma_{f1}}\\right) = 1\n",
    "$$\n",
    "$$\n",
    "\\begin{equation}\n",
    "k\\left(A + B\\rho_{Na}\\right) = 1 \n",
    "\\end{equation}\n",
    "$$\n"
   ]
  },
  {
   "cell_type": "markdown",
   "metadata": {},
   "source": [
    "We have two known reactor conditions that we can now use to solve for A and B in the above equation:\n",
    "1. Void worth when entire core is voided ($4.44 BOC, metal, startup)\n",
    "2. Assume k = 1 when entire core is liquid"
   ]
  },
  {
   "cell_type": "markdown",
   "metadata": {},
   "source": [
    "For Na density, we will use (from [ANL-RE-95-2](https://www.ne.anl.gov/eda/ANL-RE-95-2.pdf))\n",
    "1. Density of vapor sodium at saturation ($\\sim 1200 K$ at operating pressure from [Figure III.7-12](https://publications.anl.gov/anlpubs/2017/04/134264.pdf)) is $0.394 \\frac{kg}{m^3}$.\n",
    "2. Density of liquid sodium at core average temperature $700 K$ (average of $350^o C$ cold pool temperature and $500^o C$ hot temperature) is $852 \\frac{kg}{m^3}$."
   ]
  },
  {
   "cell_type": "markdown",
   "metadata": {},
   "source": [
    "This results in a 2x2 linear system that we can use to solve for A and B:\n",
    "$$\n",
    "\\begin{align} \\tag{2}\n",
    "Ak_g + Bk_g\\rho_{na,g} = 1 \\\\\n",
    "Ak_l + Bk_l\\rho_{na,l} = 1\n",
    "\\end{align}\n",
    "$$\n",
    "\n",
    "$$\n",
    "\\begin{bmatrix}\n",
    "k_g & k_g \\rho_{na,g} \\\\\n",
    "k_l & k_l \\rho_{na,l} \\\\\n",
    "\\end{bmatrix}\n",
    "\n",
    "\\begin{bmatrix}\n",
    "A \\\\ B\n",
    "\\end{bmatrix} \n",
    "\n",
    "=\n",
    "\n",
    "\\begin{bmatrix}\n",
    "1 \\\\ 1\n",
    "\\end{bmatrix}\n",
    "$$"
   ]
  },
  {
   "cell_type": "code",
   "execution_count": 101,
   "metadata": {},
   "outputs": [],
   "source": [
    "\"\"\"Let's set up some units before we get started.\n",
    "\n",
    "And a general note on comments since you'll want to know how I\n",
    "work. My rule of thumb is to write comments according to my audience.\n",
    "In many cases, my audience is engineers, and therefore my comments\n",
    "are extensive. But comments, like lines of code, represent inventory\n",
    "of an application. As your inventory goes up, your maintenance costs\n",
    "increase as well. Comments require maintenance just like source code\n",
    "in the case of refactoring. If the code is obvious or the audience is\n",
    "savvy, comments oftentimes are not necessary. However, I'll be using\n",
    "lots of comments in this project assuming my audience is primarily engineers,\n",
    "plus the fact that computational code is confusing and hard to read.\n",
    "\n",
    "Most of the code I write is in standalone applications rather than Jupyter\n",
    "notebooks, so I'll use google's docstring guide inside of some code blocks\n",
    "where appropriate (which is sort of what you see here).\n",
    "\n",
    "Attributes:\n",
    "    ureg (pint.UnitRegistry): Pint unit registry\n",
    "    Quantity (pint.Quantity): Pint float quantity containing units\n",
    "\"\"\"\n",
    "import pint\n",
    "from math import floor, log10\n",
    "\n",
    "# I've had success using pint to keep me from making dumb unit errors.\n",
    "# So I'll try not to embarass myself in front of yall too badly.\n",
    "ureg = pint.UnitRegistry()\n",
    "Quant = pint.Quantity\n",
    "\n",
    "def round_quant(quantity, sig_fig=4):\n",
    "    \"\"\"Return pint quantity reduced to given significant digits as a string.\"\"\"\n",
    "    value = round(\n",
    "        quantity.m, \n",
    "        sig_fig-int(floor(log10(abs(quantity.m)))) - 1\n",
    "    )\n",
    "    return str(value) + ' ' + str(quantity.units)\n"
   ]
  },
  {
   "cell_type": "code",
   "execution_count": 102,
   "metadata": {},
   "outputs": [],
   "source": [
    "\"\"\"Solving for A and B in equation 1.\n",
    "\n",
    "Assumes metal startup core at BOC. k_1, rho_1, k_2, and rho_2\n",
    "from Equation 2 are first determined using the assumptions \n",
    "outlined above. They become the coefficients for the 2x2 system\n",
    "used to solve for A and B.\n",
    "\n",
    "Attributes:\n",
    "    global_void_reactivity (float): Whole core void reactivity\n",
    "    k_g (float): Multiplication factor with entire core voided\n",
    "    k_l (float): Reactor critical multiplication factor or 1.0\n",
    "    rho_na_g (Quantity): Vapor density of sodium\n",
    "    rho_na_l (Quantity): Liquid density of sodium\n",
    "    A (float): Constant from Equation 1\n",
    "    B (float): Constant from Equation 1\n",
    "\"\"\"\n",
    "import numpy as np\n",
    "\n",
    "# k_g from Equations 2 is solved from the void worth \n",
    "# of the entire core\n",
    "void_worth = 4.44 # Dollars\n",
    "beta_eff = 0.0034 # Delayed neutron fraction for metal core\n",
    "global_void_reactivity = void_worth * beta_eff\n",
    "k_g = 1 / (1 - global_void_reactivity)\n",
    "# k2 is assumed to be 1\n",
    "k_l = 1.0\n",
    "\n",
    "# Density of voided sodium\n",
    "rho_na_g = Quant(0.394, \"kg/m^3\")\n",
    "# Density of liquid sodium\n",
    "rho_na_l = Quant(852, \"kg/m^3\")\n",
    "\n",
    "# Solving the 2x2 system for coefficients A and B in Equation 1\n",
    "# 2x2 coefficient matrix\n",
    "coeffs = np.array([[k_g, k_g*rho_na_g.m], [k_l, k_l*rho_na_l.m]])\n",
    "# Right hand side term\n",
    "rhs = np.array([1, 1])\n",
    "# Solving for constants A and B from Equation 1\n",
    "A,B = np.linalg.solve(coeffs, rhs)"
   ]
  },
  {
   "cell_type": "markdown",
   "metadata": {},
   "source": [
    "Now we can return reactivity as a function of core sodium void fraction. \n",
    "This is my interpretation of \"Local\" in question 1, part 1 for the miniproject."
   ]
  },
  {
   "cell_type": "code",
   "execution_count": 103,
   "metadata": {},
   "outputs": [],
   "source": [
    "def void_reactivity(alpha_na):\n",
    "    \"\"\"Calculate the reactivity insertion of ABR due to Na voiding.\n",
    "    \n",
    "    Using the void worth of the active whole-core, calculate the\n",
    "    reactivity insertion from a fraction of void within a single\n",
    "    assembly using the following relationships:\n",
    "        * reactivity = k - 1 / k\n",
    "        * k = 1 / (A + B*rho_na) from Equation 1\n",
    "        * rho_na = alpha_na*rho_na_g + (1- alpha_na)*rho_na_l \n",
    "\n",
    "    Args:\n",
    "        alpha_na (float): Sodium void fraction of ABR core. \n",
    "            1.0 = Entire active core is vapor\n",
    "            0.0 = Enteire active core is liquid\n",
    "\n",
    "    Returns:\n",
    "        float: Reactivity insertion as a function of Na void fraction\n",
    "    \"\"\"\n",
    "    # This function is only valid for alpha_na between 1 and 0, so \n",
    "    # lets do some raisen if this isn't the case.\n",
    "    if alpha_na > 1.0 or alpha_na < 0.0:\n",
    "        raise ValueError(\n",
    "            \"Sodium volume fraction must be between 1.0 and 0.0. \"\n",
    "            f\"Received a value of {alpha_na}.\"\n",
    "        )\n",
    "    \n",
    "    # Turn alpha_na to a float because Pint doesn't like float64s\n",
    "    alpha_na = float(alpha_na)\n",
    "\n",
    "    # Core sodium density\n",
    "    rho_na = alpha_na*rho_na_g + (1-alpha_na)*rho_na_l\n",
    "\n",
    "    # Multiplication factor\n",
    "    k = 1 / (A + rho_na.m*B)\n",
    "\n",
    "    # Return reactivity\n",
    "    return (k-1)/k\n",
    "    \n"
   ]
  },
  {
   "cell_type": "code",
   "execution_count": 104,
   "metadata": {},
   "outputs": [],
   "source": [
    "\"\"\"Test void reactivity equaiton.\n",
    "\n",
    "This of course goes in a test module, but I figured it would\n",
    "be good to have it here as well. Assertions are based on the\n",
    "assumptions for a voided core and a liquid core.\n",
    "\"\"\"\n",
    "from glob import glob\n",
    "import pytest\n",
    "\n",
    "# Make sure exceptions are handled appropriately\n",
    "with pytest.raises(ValueError) as err:\n",
    "    # The Answer s way too big!\n",
    "    void_reactivity(42)\n",
    "# I always check my error statements since you could raise for\n",
    "# the wrong reason.\n",
    "assert \"Received a value of 42\" in str(err.value)\n",
    "\n",
    "with pytest.raises(ValueError) as err:\n",
    "    # Negative The Answer?\n",
    "    void_reactivity(-42)\n",
    "assert \"Received a value of -42\" in str(err.value)\n",
    "\n",
    "# Check for liquid solid core\n",
    "assert void_reactivity(0.0) == 0.0\n",
    "# Check for vapor solid core\n",
    "assert void_reactivity(1.0) == pytest.approx(global_void_reactivity)"
   ]
  },
  {
   "cell_type": "markdown",
   "metadata": {},
   "source": [
    "It's a bummer you don't get green dots from assertions in Jupyter notebooks like with pytest. I think I'm addicted to those things."
   ]
  },
  {
   "cell_type": "code",
   "execution_count": 119,
   "metadata": {},
   "outputs": [
    {
     "data": {
      "application/vnd.plotly.v1+json": {
       "config": {
        "plotlyServerURL": "https://plot.ly"
       },
       "data": [
        {
         "mode": "lines",
         "type": "scatter",
         "x": [
          0,
          0.05263157894736842,
          0.10526315789473684,
          0.15789473684210525,
          0.21052631578947367,
          0.2631578947368421,
          0.3157894736842105,
          0.3684210526315789,
          0.42105263157894735,
          0.47368421052631576,
          0.5263157894736842,
          0.5789473684210527,
          0.631578947368421,
          0.6842105263157894,
          0.7368421052631579,
          0.7894736842105263,
          0.8421052631578947,
          0.894736842105263,
          0.9473684210526315,
          1
         ],
         "y": [
          0,
          0.0007945263157895435,
          0.0015890526315790077,
          0.0023835789473684466,
          0.003178105263157936,
          0.003972631578947314,
          0.004767157894736844,
          0.005561684210526371,
          0.006356210526315837,
          0.007150736842105163,
          0.007945263157894613,
          0.008739789473684085,
          0.009534315789473537,
          0.010328842105263003,
          0.01112336842105263,
          0.011917894736842098,
          0.01271242105263159,
          0.013506947368421047,
          0.014301473684210525,
          0.01509599999999994
         ]
        }
       ],
       "layout": {
        "template": {
         "data": {
          "bar": [
           {
            "error_x": {
             "color": "#2a3f5f"
            },
            "error_y": {
             "color": "#2a3f5f"
            },
            "marker": {
             "line": {
              "color": "#E5ECF6",
              "width": 0.5
             },
             "pattern": {
              "fillmode": "overlay",
              "size": 10,
              "solidity": 0.2
             }
            },
            "type": "bar"
           }
          ],
          "barpolar": [
           {
            "marker": {
             "line": {
              "color": "#E5ECF6",
              "width": 0.5
             },
             "pattern": {
              "fillmode": "overlay",
              "size": 10,
              "solidity": 0.2
             }
            },
            "type": "barpolar"
           }
          ],
          "carpet": [
           {
            "aaxis": {
             "endlinecolor": "#2a3f5f",
             "gridcolor": "white",
             "linecolor": "white",
             "minorgridcolor": "white",
             "startlinecolor": "#2a3f5f"
            },
            "baxis": {
             "endlinecolor": "#2a3f5f",
             "gridcolor": "white",
             "linecolor": "white",
             "minorgridcolor": "white",
             "startlinecolor": "#2a3f5f"
            },
            "type": "carpet"
           }
          ],
          "choropleth": [
           {
            "colorbar": {
             "outlinewidth": 0,
             "ticks": ""
            },
            "type": "choropleth"
           }
          ],
          "contour": [
           {
            "colorbar": {
             "outlinewidth": 0,
             "ticks": ""
            },
            "colorscale": [
             [
              0,
              "#0d0887"
             ],
             [
              0.1111111111111111,
              "#46039f"
             ],
             [
              0.2222222222222222,
              "#7201a8"
             ],
             [
              0.3333333333333333,
              "#9c179e"
             ],
             [
              0.4444444444444444,
              "#bd3786"
             ],
             [
              0.5555555555555556,
              "#d8576b"
             ],
             [
              0.6666666666666666,
              "#ed7953"
             ],
             [
              0.7777777777777778,
              "#fb9f3a"
             ],
             [
              0.8888888888888888,
              "#fdca26"
             ],
             [
              1,
              "#f0f921"
             ]
            ],
            "type": "contour"
           }
          ],
          "contourcarpet": [
           {
            "colorbar": {
             "outlinewidth": 0,
             "ticks": ""
            },
            "type": "contourcarpet"
           }
          ],
          "heatmap": [
           {
            "colorbar": {
             "outlinewidth": 0,
             "ticks": ""
            },
            "colorscale": [
             [
              0,
              "#0d0887"
             ],
             [
              0.1111111111111111,
              "#46039f"
             ],
             [
              0.2222222222222222,
              "#7201a8"
             ],
             [
              0.3333333333333333,
              "#9c179e"
             ],
             [
              0.4444444444444444,
              "#bd3786"
             ],
             [
              0.5555555555555556,
              "#d8576b"
             ],
             [
              0.6666666666666666,
              "#ed7953"
             ],
             [
              0.7777777777777778,
              "#fb9f3a"
             ],
             [
              0.8888888888888888,
              "#fdca26"
             ],
             [
              1,
              "#f0f921"
             ]
            ],
            "type": "heatmap"
           }
          ],
          "heatmapgl": [
           {
            "colorbar": {
             "outlinewidth": 0,
             "ticks": ""
            },
            "colorscale": [
             [
              0,
              "#0d0887"
             ],
             [
              0.1111111111111111,
              "#46039f"
             ],
             [
              0.2222222222222222,
              "#7201a8"
             ],
             [
              0.3333333333333333,
              "#9c179e"
             ],
             [
              0.4444444444444444,
              "#bd3786"
             ],
             [
              0.5555555555555556,
              "#d8576b"
             ],
             [
              0.6666666666666666,
              "#ed7953"
             ],
             [
              0.7777777777777778,
              "#fb9f3a"
             ],
             [
              0.8888888888888888,
              "#fdca26"
             ],
             [
              1,
              "#f0f921"
             ]
            ],
            "type": "heatmapgl"
           }
          ],
          "histogram": [
           {
            "marker": {
             "pattern": {
              "fillmode": "overlay",
              "size": 10,
              "solidity": 0.2
             }
            },
            "type": "histogram"
           }
          ],
          "histogram2d": [
           {
            "colorbar": {
             "outlinewidth": 0,
             "ticks": ""
            },
            "colorscale": [
             [
              0,
              "#0d0887"
             ],
             [
              0.1111111111111111,
              "#46039f"
             ],
             [
              0.2222222222222222,
              "#7201a8"
             ],
             [
              0.3333333333333333,
              "#9c179e"
             ],
             [
              0.4444444444444444,
              "#bd3786"
             ],
             [
              0.5555555555555556,
              "#d8576b"
             ],
             [
              0.6666666666666666,
              "#ed7953"
             ],
             [
              0.7777777777777778,
              "#fb9f3a"
             ],
             [
              0.8888888888888888,
              "#fdca26"
             ],
             [
              1,
              "#f0f921"
             ]
            ],
            "type": "histogram2d"
           }
          ],
          "histogram2dcontour": [
           {
            "colorbar": {
             "outlinewidth": 0,
             "ticks": ""
            },
            "colorscale": [
             [
              0,
              "#0d0887"
             ],
             [
              0.1111111111111111,
              "#46039f"
             ],
             [
              0.2222222222222222,
              "#7201a8"
             ],
             [
              0.3333333333333333,
              "#9c179e"
             ],
             [
              0.4444444444444444,
              "#bd3786"
             ],
             [
              0.5555555555555556,
              "#d8576b"
             ],
             [
              0.6666666666666666,
              "#ed7953"
             ],
             [
              0.7777777777777778,
              "#fb9f3a"
             ],
             [
              0.8888888888888888,
              "#fdca26"
             ],
             [
              1,
              "#f0f921"
             ]
            ],
            "type": "histogram2dcontour"
           }
          ],
          "mesh3d": [
           {
            "colorbar": {
             "outlinewidth": 0,
             "ticks": ""
            },
            "type": "mesh3d"
           }
          ],
          "parcoords": [
           {
            "line": {
             "colorbar": {
              "outlinewidth": 0,
              "ticks": ""
             }
            },
            "type": "parcoords"
           }
          ],
          "pie": [
           {
            "automargin": true,
            "type": "pie"
           }
          ],
          "scatter": [
           {
            "fillpattern": {
             "fillmode": "overlay",
             "size": 10,
             "solidity": 0.2
            },
            "type": "scatter"
           }
          ],
          "scatter3d": [
           {
            "line": {
             "colorbar": {
              "outlinewidth": 0,
              "ticks": ""
             }
            },
            "marker": {
             "colorbar": {
              "outlinewidth": 0,
              "ticks": ""
             }
            },
            "type": "scatter3d"
           }
          ],
          "scattercarpet": [
           {
            "marker": {
             "colorbar": {
              "outlinewidth": 0,
              "ticks": ""
             }
            },
            "type": "scattercarpet"
           }
          ],
          "scattergeo": [
           {
            "marker": {
             "colorbar": {
              "outlinewidth": 0,
              "ticks": ""
             }
            },
            "type": "scattergeo"
           }
          ],
          "scattergl": [
           {
            "marker": {
             "colorbar": {
              "outlinewidth": 0,
              "ticks": ""
             }
            },
            "type": "scattergl"
           }
          ],
          "scattermapbox": [
           {
            "marker": {
             "colorbar": {
              "outlinewidth": 0,
              "ticks": ""
             }
            },
            "type": "scattermapbox"
           }
          ],
          "scatterpolar": [
           {
            "marker": {
             "colorbar": {
              "outlinewidth": 0,
              "ticks": ""
             }
            },
            "type": "scatterpolar"
           }
          ],
          "scatterpolargl": [
           {
            "marker": {
             "colorbar": {
              "outlinewidth": 0,
              "ticks": ""
             }
            },
            "type": "scatterpolargl"
           }
          ],
          "scatterternary": [
           {
            "marker": {
             "colorbar": {
              "outlinewidth": 0,
              "ticks": ""
             }
            },
            "type": "scatterternary"
           }
          ],
          "surface": [
           {
            "colorbar": {
             "outlinewidth": 0,
             "ticks": ""
            },
            "colorscale": [
             [
              0,
              "#0d0887"
             ],
             [
              0.1111111111111111,
              "#46039f"
             ],
             [
              0.2222222222222222,
              "#7201a8"
             ],
             [
              0.3333333333333333,
              "#9c179e"
             ],
             [
              0.4444444444444444,
              "#bd3786"
             ],
             [
              0.5555555555555556,
              "#d8576b"
             ],
             [
              0.6666666666666666,
              "#ed7953"
             ],
             [
              0.7777777777777778,
              "#fb9f3a"
             ],
             [
              0.8888888888888888,
              "#fdca26"
             ],
             [
              1,
              "#f0f921"
             ]
            ],
            "type": "surface"
           }
          ],
          "table": [
           {
            "cells": {
             "fill": {
              "color": "#EBF0F8"
             },
             "line": {
              "color": "white"
             }
            },
            "header": {
             "fill": {
              "color": "#C8D4E3"
             },
             "line": {
              "color": "white"
             }
            },
            "type": "table"
           }
          ]
         },
         "layout": {
          "annotationdefaults": {
           "arrowcolor": "#2a3f5f",
           "arrowhead": 0,
           "arrowwidth": 1
          },
          "autotypenumbers": "strict",
          "coloraxis": {
           "colorbar": {
            "outlinewidth": 0,
            "ticks": ""
           }
          },
          "colorscale": {
           "diverging": [
            [
             0,
             "#8e0152"
            ],
            [
             0.1,
             "#c51b7d"
            ],
            [
             0.2,
             "#de77ae"
            ],
            [
             0.3,
             "#f1b6da"
            ],
            [
             0.4,
             "#fde0ef"
            ],
            [
             0.5,
             "#f7f7f7"
            ],
            [
             0.6,
             "#e6f5d0"
            ],
            [
             0.7,
             "#b8e186"
            ],
            [
             0.8,
             "#7fbc41"
            ],
            [
             0.9,
             "#4d9221"
            ],
            [
             1,
             "#276419"
            ]
           ],
           "sequential": [
            [
             0,
             "#0d0887"
            ],
            [
             0.1111111111111111,
             "#46039f"
            ],
            [
             0.2222222222222222,
             "#7201a8"
            ],
            [
             0.3333333333333333,
             "#9c179e"
            ],
            [
             0.4444444444444444,
             "#bd3786"
            ],
            [
             0.5555555555555556,
             "#d8576b"
            ],
            [
             0.6666666666666666,
             "#ed7953"
            ],
            [
             0.7777777777777778,
             "#fb9f3a"
            ],
            [
             0.8888888888888888,
             "#fdca26"
            ],
            [
             1,
             "#f0f921"
            ]
           ],
           "sequentialminus": [
            [
             0,
             "#0d0887"
            ],
            [
             0.1111111111111111,
             "#46039f"
            ],
            [
             0.2222222222222222,
             "#7201a8"
            ],
            [
             0.3333333333333333,
             "#9c179e"
            ],
            [
             0.4444444444444444,
             "#bd3786"
            ],
            [
             0.5555555555555556,
             "#d8576b"
            ],
            [
             0.6666666666666666,
             "#ed7953"
            ],
            [
             0.7777777777777778,
             "#fb9f3a"
            ],
            [
             0.8888888888888888,
             "#fdca26"
            ],
            [
             1,
             "#f0f921"
            ]
           ]
          },
          "colorway": [
           "#636efa",
           "#EF553B",
           "#00cc96",
           "#ab63fa",
           "#FFA15A",
           "#19d3f3",
           "#FF6692",
           "#B6E880",
           "#FF97FF",
           "#FECB52"
          ],
          "font": {
           "color": "#2a3f5f"
          },
          "geo": {
           "bgcolor": "white",
           "lakecolor": "white",
           "landcolor": "#E5ECF6",
           "showlakes": true,
           "showland": true,
           "subunitcolor": "white"
          },
          "hoverlabel": {
           "align": "left"
          },
          "hovermode": "closest",
          "mapbox": {
           "style": "light"
          },
          "paper_bgcolor": "white",
          "plot_bgcolor": "#E5ECF6",
          "polar": {
           "angularaxis": {
            "gridcolor": "white",
            "linecolor": "white",
            "ticks": ""
           },
           "bgcolor": "#E5ECF6",
           "radialaxis": {
            "gridcolor": "white",
            "linecolor": "white",
            "ticks": ""
           }
          },
          "scene": {
           "xaxis": {
            "backgroundcolor": "#E5ECF6",
            "gridcolor": "white",
            "gridwidth": 2,
            "linecolor": "white",
            "showbackground": true,
            "ticks": "",
            "zerolinecolor": "white"
           },
           "yaxis": {
            "backgroundcolor": "#E5ECF6",
            "gridcolor": "white",
            "gridwidth": 2,
            "linecolor": "white",
            "showbackground": true,
            "ticks": "",
            "zerolinecolor": "white"
           },
           "zaxis": {
            "backgroundcolor": "#E5ECF6",
            "gridcolor": "white",
            "gridwidth": 2,
            "linecolor": "white",
            "showbackground": true,
            "ticks": "",
            "zerolinecolor": "white"
           }
          },
          "shapedefaults": {
           "line": {
            "color": "#2a3f5f"
           }
          },
          "ternary": {
           "aaxis": {
            "gridcolor": "white",
            "linecolor": "white",
            "ticks": ""
           },
           "baxis": {
            "gridcolor": "white",
            "linecolor": "white",
            "ticks": ""
           },
           "bgcolor": "#E5ECF6",
           "caxis": {
            "gridcolor": "white",
            "linecolor": "white",
            "ticks": ""
           }
          },
          "title": {
           "x": 0.05
          },
          "xaxis": {
           "automargin": true,
           "gridcolor": "white",
           "linecolor": "white",
           "ticks": "",
           "title": {
            "standoff": 15
           },
           "zerolinecolor": "white",
           "zerolinewidth": 2
          },
          "yaxis": {
           "automargin": true,
           "gridcolor": "white",
           "linecolor": "white",
           "ticks": "",
           "title": {
            "standoff": 15
           },
           "zerolinecolor": "white",
           "zerolinewidth": 2
          }
         }
        },
        "title": {
         "text": "Reactivity insertion as a function of Na void fraction."
        },
        "xaxis": {
         "title": {
          "text": "Na void fraction"
         }
        },
        "yaxis": {
         "title": {
          "text": "Reactivity"
         }
        }
       }
      }
     },
     "metadata": {},
     "output_type": "display_data"
    }
   ],
   "source": [
    "\"\"\"Pretty picture time.\"\"\"\n",
    "import plotly.graph_objects as go\n",
    "\n",
    "x_values = np.linspace(0.0, 1.0, num=20)\n",
    "y_values = [void_reactivity(i) for i in x_values]\n",
    "\n",
    "fig = go.Figure(\n",
    "    data=[go.Scatter(x=x_values, y=y_values, mode=\"lines\")],\n",
    ")\n",
    "fig.update_layout(\n",
    "    title=\"Reactivity insertion as a function of Na void fraction.\",\n",
    "    xaxis_title=\"Na void fraction\",\n",
    "    yaxis_title=\"Reactivity\"\n",
    ")\n",
    "\n",
    "fig.show()"
   ]
  },
  {
   "cell_type": "markdown",
   "metadata": {},
   "source": [
    "This is kind of boring\n",
    "And we all knew this would just be a linear function of $\\alpha_{Na}$.\n",
    "More complex neutronics relationships can improve the accuracy of Equation 1.\n",
    "* Actually consider thermal fission\n",
    "* More energy groups\n",
    "* Heterogeneity"
   ]
  },
  {
   "cell_type": "markdown",
   "metadata": {},
   "source": [
    "A subchannel code (e.g. COBRA) could be used to generate the local void fraction used in the above python function `void_reactivity`.\n",
    "As it is I've spent a lot of time on this (fairly simple) derivation and won't try and build a subchannel solver right now :).\n"
   ]
  }
 ],
 "metadata": {
  "kernelspec": {
   "display_name": "Python 3.10.6 ('miniproj')",
   "language": "python",
   "name": "python3"
  },
  "language_info": {
   "codemirror_mode": {
    "name": "ipython",
    "version": 3
   },
   "file_extension": ".py",
   "mimetype": "text/x-python",
   "name": "python",
   "nbconvert_exporter": "python",
   "pygments_lexer": "ipython3",
   "version": "3.10.6"
  },
  "orig_nbformat": 4,
  "vscode": {
   "interpreter": {
    "hash": "9ee234d6533235b615721f382b997905935b26510caf3064cf1801eb0e2da607"
   }
  }
 },
 "nbformat": 4,
 "nbformat_minor": 2
}
