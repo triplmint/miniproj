{
 "cells": [
  {
   "cell_type": "markdown",
   "metadata": {},
   "source": [
    "## Question 1, Part 1\n",
    "\n",
    "Determine reactivity insertion from localized flow blockage."
   ]
  },
  {
   "cell_type": "markdown",
   "metadata": {
    "slideshow": {
     "slide_type": "slide"
    }
   },
   "source": [
    "Na void positive reactivity due to spectral hardening"
   ]
  },
  {
   "cell_type": "markdown",
   "metadata": {
    "slideshow": {
     "slide_type": "fragment"
    }
   },
   "source": [
    "Less sodium density $\\rightarrow$ less scattering $\\rightarrow$ more fast neutrons $\\rightarrow$ less absorption"
   ]
  },
  {
   "cell_type": "markdown",
   "metadata": {
    "slideshow": {
     "slide_type": "fragment"
    }
   },
   "source": [
    "![image](img/Pu_239_cross_section.png)"
   ]
  },
  {
   "cell_type": "markdown",
   "metadata": {},
   "source": [
    "Operative word is \"Local\"\n",
    "\n",
    "* Void worth $4.44 assuming \"flowing sodium completely voided in ALL active and above-core regions\" ([Argonne's Fast Reactor Physics - 2](https://www.nrc.gov/docs/ML1914/ML19148A801.pdf))\n",
    "* How to apply this for local voiding?\n",
    "* Ultimately want reactivty as a function of sodium density, i.e. $k(\\rho_{Na})$"
   ]
  },
  {
   "cell_type": "markdown",
   "metadata": {},
   "source": [
    "Driven by scattering out of fast spectrum\n",
    "Assumptions to derive $k(\\rho_{Na})$\n",
    "* Assume two group equation\n",
    "* Infinite reactor (or perfect reflector)\n",
    "* All relevant fissions occur in fast spectrum (terrible assumption...)\n",
    "* Everything scattered out of fast spectrum is absorbed (also pretty bad)"
   ]
  },
  {
   "cell_type": "markdown",
   "metadata": {},
   "source": [
    "## Two group equation\n",
    "Group 1 - fast spectrum\n",
    "\n",
    "Group 2 - everything else\n",
    "$$\n",
    "\\frac{1}{k}\\nu_1 \\Sigma_f \\phi_1 - \\Sigma_{a1} \\phi_1 - \\Sigma_{1\\rightarrow 2}\\phi_1 = 0 \\\\\n",
    "\\Sigma_{1 \\rightarrow 2} \\phi_1 - \\Sigma_{a2} \\phi_2  = 0\n",
    "$$"
   ]
  },
  {
   "cell_type": "markdown",
   "metadata": {},
   "source": [
    "If we can generate a linear expression for $k(\\rho_{Na})$, we can use what know about global void worth to solve for linear constants.\n",
    "\n",
    "$$\n",
    "k(\\Sigma_{a1} + \\Sigma_{1 \\rightarrow 2}) = \\nu_1 \\Sigma_{f1}\n",
    "$$\n",
    "$$\n",
    "k\\left(\\frac{\\Sigma_{a1}}{\\nu_1 \\Sigma_{f1}} + \\frac{\\Sigma_{1 \\rightarrow 2}}{\\nu_1 \\Sigma_{f1}}\\right) = 1\n",
    "$$\n",
    "$$\n",
    "k\\left(\\frac{\\Sigma_{a1}}{\\nu_1 \\Sigma_{f1}} + \\frac{\\rho_{Na}A_v}{M_{Na}}\\frac{\\sigma_{1 \\rightarrow 2}}{\\nu_1 \\Sigma_{f1}}\\right) = 1\n",
    "$$\n",
    "$$\n",
    "\\begin{equation}\n",
    "k\\left(A + B\\rho_{Na}\\right) = 1 \n",
    "\\end{equation}\n",
    "$$\n"
   ]
  },
  {
   "cell_type": "markdown",
   "metadata": {},
   "source": [
    "We have two known reactor conditions that we can now use to solve for A and B in the above equation:\n",
    "1. Void worth when entire core is voided ($4.44 BOC, metal, startup)\n",
    "2. Assume k = 1 when entire core is liquid"
   ]
  },
  {
   "cell_type": "markdown",
   "metadata": {},
   "source": [
    "For Na density, we will use (from [ANL-RE-95-2](https://www.ne.anl.gov/eda/ANL-RE-95-2.pdf))\n",
    "1. Density of vapor sodium at saturation ($\\sim 1200 K$ at operating pressure from [Figure III.7-12](https://publications.anl.gov/anlpubs/2017/04/134264.pdf)) is $0.394 \\frac{kg}{m^3}$.\n",
    "2. Density of liquid sodium at core average temperature $700 K$ (average of $350^o C$ cold pool temperature and $500^o C$ hot temperature) is $852 \\frac{kg}{m^3}$."
   ]
  },
  {
   "cell_type": "markdown",
   "metadata": {},
   "source": [
    "This results in a 2x2 linear system that we can use to solve for A and B:\n",
    "$$\n",
    "\\begin{align} \\tag{2}\n",
    "Ak_g + Bk_g\\rho_{na,g} = 1 \\\\\n",
    "Ak_l + Bk_l\\rho_{na,l} = 1\n",
    "\\end{align}\n",
    "$$\n",
    "\n",
    "$$\n",
    "\\begin{bmatrix}\n",
    "k_g & k_g \\rho_{na,g} \\\\\n",
    "k_l & k_l \\rho_{na,l} \\\\\n",
    "\\end{bmatrix}\n",
    "\n",
    "\\begin{bmatrix}\n",
    "A \\\\ B\n",
    "\\end{bmatrix} \n",
    "\n",
    "=\n",
    "\n",
    "\\begin{bmatrix}\n",
    "1 \\\\ 1\n",
    "\\end{bmatrix}\n",
    "$$"
   ]
  },
  {
   "cell_type": "code",
   "execution_count": 136,
   "metadata": {},
   "outputs": [],
   "source": [
    "\"\"\"Let's set up some units before we get started.\n",
    "\n",
    "And a general note on comments since you'll want to know how I\n",
    "work. My rule of thumb is to write comments according to my audience.\n",
    "In many cases, my audience is engineers, and therefore my comments\n",
    "are extensive. But comments, like lines of code, represent inventory\n",
    "of an application. As your inventory goes up, your maintenance costs\n",
    "increase as well. Comments require maintenance just like source code\n",
    "in the case of refactoring. If the code is obvious or the audience is\n",
    "savvy, comments oftentimes are not necessary. However, I'll be using\n",
    "lots of comments in this project assuming my audience is primarily engineers,\n",
    "plus the fact that computational code is confusing and hard to read.\n",
    "\n",
    "Most of the code I write is in standalone applications rather than Jupyter\n",
    "notebooks, so I'll use google's docstring guide inside of some code blocks\n",
    "where appropriate (which is sort of what you see here).\n",
    "\n",
    "Attributes:\n",
    "    ureg (pint.UnitRegistry): Pint unit registry\n",
    "    Quantity (pint.Quantity): Pint float quantity containing units\n",
    "\"\"\"\n",
    "import pint\n",
    "from math import floor, log10\n",
    "\n",
    "# I've had success using pint to keep me from making dumb unit errors.\n",
    "# So I'll try not to embarass myself in front of yall too badly.\n",
    "ureg = pint.UnitRegistry()\n",
    "Quant = pint.Quantity\n",
    "\n",
    "def round_quant(quantity, sig_fig=4):\n",
    "    \"\"\"Return pint quantity reduced to given significant digits as a string.\"\"\"\n",
    "    value = round(\n",
    "        quantity.m, \n",
    "        sig_fig-int(floor(log10(abs(quantity.m)))) - 1\n",
    "    )\n",
    "    return str(value) + str(quantity.units)\n"
   ]
  },
  {
   "cell_type": "code",
   "execution_count": 137,
   "metadata": {},
   "outputs": [],
   "source": [
    "\"\"\"Solving for A and B in equation 1.\n",
    "\n",
    "Assumes metal startup core at BOC. k_1, rho_1, k_2, and rho_2\n",
    "from Equation 2 are first determined using the assumptions \n",
    "outlined above. They become the coefficients for the 2x2 system\n",
    "used to solve for A and B.\n",
    "\n",
    "Attributes:\n",
    "    global_void_reactivity (float): Whole core void reactivity\n",
    "    k_g (float): Multiplication factor with entire core voided\n",
    "    k_l (float): Reactor critical multiplication factor or 1.0\n",
    "    rho_na_g (Quantity): Vapor density of sodium\n",
    "    rho_na_l (Quantity): Liquid density of sodium\n",
    "    A (float): Constant from Equation 1\n",
    "    B (float): Constant from Equation 1\n",
    "\"\"\"\n",
    "import numpy as np\n",
    "\n",
    "# k_g from Equations 2 is solved from the void worth \n",
    "# of the entire core\n",
    "void_worth = 4.44 # Dollars\n",
    "beta_eff = 0.0034 # Delayed neutron fraction\n",
    "global_void_reactivity = void_worth * beta_eff\n",
    "k_g = 1 / (1 - global_void_reactivity)\n",
    "# k2 is assumed to be 1\n",
    "k_l = 1.0\n",
    "\n",
    "# Density of voided sodium\n",
    "rho_na_g = Quant(0.394, \"kg/m^3\")\n",
    "# Density of liquid sodium\n",
    "rho_na_l = Quant(852, \"kg/m^3\")\n",
    "\n",
    "# Solving the 2x2 system for coefficients A and B in Equation 1\n",
    "# 2x2 coefficient matrix\n",
    "coeffs = np.array([[k_g, k_g*rho_na_g.m], [k_l, k_l*rho_na_l.m]])\n",
    "# Right hand side term\n",
    "rhs = np.array([1, 1])\n",
    "# Solving for constants A and B from Equation 1\n",
    "A,B = np.linalg.solve(coeffs, rhs)"
   ]
  },
  {
   "cell_type": "markdown",
   "metadata": {},
   "source": [
    "Now we can return reactivity as a function of core sodium void fraction. \n",
    "This is my interpretation of \"Local\" in question 1, part 1 for the miniproject."
   ]
  },
  {
   "cell_type": "code",
   "execution_count": 138,
   "metadata": {},
   "outputs": [],
   "source": [
    "def void_reactivity(alpha_na):\n",
    "    \"\"\"Calculate the reactivity insertion of ABR due to Na voiding.\n",
    "    \n",
    "    Using the void worth of the active whole-core, calculate the\n",
    "    reactivity insertion from a fraction of void within a single\n",
    "    assembly using the following relationships:\n",
    "        * reactivity = k - 1 / k\n",
    "        * k = 1 / (A + B*rho_na) from Equation 1\n",
    "        * rho_na = alpha_na*rho_na_g + (1- alpha_na)*rho_na_l \n",
    "\n",
    "    Args:\n",
    "        alpha_na (float): Sodium void fraction of ABR core. \n",
    "            1.0 = Entire active core is vapor\n",
    "            0.0 = Entire active core is liquid\n",
    "\n",
    "    Returns:\n",
    "        float: Reactivity insertion as a function of Na void fraction\n",
    "    \"\"\"\n",
    "    # This function is only valid for alpha_na between 1 and 0, so \n",
    "    # lets do some raisen if this isn't the case.\n",
    "    if alpha_na > 1.0 or alpha_na < 0.0:\n",
    "        raise ValueError(\n",
    "            \"Sodium volume fraction must be between 1.0 and 0.0. \"\n",
    "            f\"Received a value of {alpha_na}.\"\n",
    "        )\n",
    "    \n",
    "    # Turn alpha_na to a float because Pint doesn't like float64s\n",
    "    alpha_na = float(alpha_na)\n",
    "\n",
    "    # Core sodium density\n",
    "    rho_na = alpha_na*rho_na_g + (1-alpha_na)*rho_na_l\n",
    "\n",
    "    # Multiplication factor\n",
    "    k = 1 / (A + rho_na.m*B)\n",
    "\n",
    "    # Return reactivity\n",
    "    return (k-1)/k\n",
    "    \n"
   ]
  },
  {
   "cell_type": "code",
   "execution_count": 139,
   "metadata": {},
   "outputs": [],
   "source": [
    "\"\"\"Test void reactivity equaiton.\n",
    "\n",
    "This of course goes in a test module, but I figured it would\n",
    "be good to have it here as well. Assertions are based on the\n",
    "assumptions for a voided core and a liquid core.\n",
    "\"\"\"\n",
    "from glob import glob\n",
    "import pytest\n",
    "\n",
    "# Make sure exceptions are handled appropriately\n",
    "with pytest.raises(ValueError) as err:\n",
    "    # The Answer s way too big!\n",
    "    void_reactivity(42)\n",
    "# I always check my error statements since you could raise for\n",
    "# the wrong reason.\n",
    "assert \"Received a value of 42\" in str(err.value)\n",
    "\n",
    "with pytest.raises(ValueError) as err:\n",
    "    # Negative The Answer?\n",
    "    void_reactivity(-42)\n",
    "assert \"Received a value of -42\" in str(err.value)\n",
    "\n",
    "# Check for liquid solid core\n",
    "assert void_reactivity(0.0) == 0.0\n",
    "# Check for vapor solid core\n",
    "assert void_reactivity(1.0) == pytest.approx(global_void_reactivity)"
   ]
  },
  {
   "cell_type": "markdown",
   "metadata": {},
   "source": [
    "It's a bummer you don't get green dots from assertions in Jupyter notebooks like with pytest. I think I'm addicted to those things."
   ]
  },
  {
   "cell_type": "code",
   "execution_count": 140,
   "metadata": {},
   "outputs": [
    {
     "data": {
      "application/vnd.plotly.v1+json": {
       "config": {
        "plotlyServerURL": "https://plot.ly"
       },
       "data": [
        {
         "mode": "lines",
         "type": "scatter",
         "x": [
          0,
          0.05263157894736842,
          0.10526315789473684,
          0.15789473684210525,
          0.21052631578947367,
          0.2631578947368421,
          0.3157894736842105,
          0.3684210526315789,
          0.42105263157894735,
          0.47368421052631576,
          0.5263157894736842,
          0.5789473684210527,
          0.631578947368421,
          0.6842105263157894,
          0.7368421052631579,
          0.7894736842105263,
          0.8421052631578947,
          0.894736842105263,
          0.9473684210526315,
          1
         ],
         "y": [
          0,
          0.0007945263157895435,
          0.0015890526315790077,
          0.0023835789473684466,
          0.003178105263157936,
          0.003972631578947314,
          0.004767157894736844,
          0.005561684210526371,
          0.006356210526315837,
          0.007150736842105163,
          0.007945263157894613,
          0.008739789473684085,
          0.009534315789473537,
          0.010328842105263003,
          0.01112336842105263,
          0.011917894736842098,
          0.01271242105263159,
          0.013506947368421047,
          0.014301473684210525,
          0.01509599999999994
         ]
        }
       ],
       "layout": {
        "template": {
         "data": {
          "bar": [
           {
            "error_x": {
             "color": "#2a3f5f"
            },
            "error_y": {
             "color": "#2a3f5f"
            },
            "marker": {
             "line": {
              "color": "#E5ECF6",
              "width": 0.5
             },
             "pattern": {
              "fillmode": "overlay",
              "size": 10,
              "solidity": 0.2
             }
            },
            "type": "bar"
           }
          ],
          "barpolar": [
           {
            "marker": {
             "line": {
              "color": "#E5ECF6",
              "width": 0.5
             },
             "pattern": {
              "fillmode": "overlay",
              "size": 10,
              "solidity": 0.2
             }
            },
            "type": "barpolar"
           }
          ],
          "carpet": [
           {
            "aaxis": {
             "endlinecolor": "#2a3f5f",
             "gridcolor": "white",
             "linecolor": "white",
             "minorgridcolor": "white",
             "startlinecolor": "#2a3f5f"
            },
            "baxis": {
             "endlinecolor": "#2a3f5f",
             "gridcolor": "white",
             "linecolor": "white",
             "minorgridcolor": "white",
             "startlinecolor": "#2a3f5f"
            },
            "type": "carpet"
           }
          ],
          "choropleth": [
           {
            "colorbar": {
             "outlinewidth": 0,
             "ticks": ""
            },
            "type": "choropleth"
           }
          ],
          "contour": [
           {
            "colorbar": {
             "outlinewidth": 0,
             "ticks": ""
            },
            "colorscale": [
             [
              0,
              "#0d0887"
             ],
             [
              0.1111111111111111,
              "#46039f"
             ],
             [
              0.2222222222222222,
              "#7201a8"
             ],
             [
              0.3333333333333333,
              "#9c179e"
             ],
             [
              0.4444444444444444,
              "#bd3786"
             ],
             [
              0.5555555555555556,
              "#d8576b"
             ],
             [
              0.6666666666666666,
              "#ed7953"
             ],
             [
              0.7777777777777778,
              "#fb9f3a"
             ],
             [
              0.8888888888888888,
              "#fdca26"
             ],
             [
              1,
              "#f0f921"
             ]
            ],
            "type": "contour"
           }
          ],
          "contourcarpet": [
           {
            "colorbar": {
             "outlinewidth": 0,
             "ticks": ""
            },
            "type": "contourcarpet"
           }
          ],
          "heatmap": [
           {
            "colorbar": {
             "outlinewidth": 0,
             "ticks": ""
            },
            "colorscale": [
             [
              0,
              "#0d0887"
             ],
             [
              0.1111111111111111,
              "#46039f"
             ],
             [
              0.2222222222222222,
              "#7201a8"
             ],
             [
              0.3333333333333333,
              "#9c179e"
             ],
             [
              0.4444444444444444,
              "#bd3786"
             ],
             [
              0.5555555555555556,
              "#d8576b"
             ],
             [
              0.6666666666666666,
              "#ed7953"
             ],
             [
              0.7777777777777778,
              "#fb9f3a"
             ],
             [
              0.8888888888888888,
              "#fdca26"
             ],
             [
              1,
              "#f0f921"
             ]
            ],
            "type": "heatmap"
           }
          ],
          "heatmapgl": [
           {
            "colorbar": {
             "outlinewidth": 0,
             "ticks": ""
            },
            "colorscale": [
             [
              0,
              "#0d0887"
             ],
             [
              0.1111111111111111,
              "#46039f"
             ],
             [
              0.2222222222222222,
              "#7201a8"
             ],
             [
              0.3333333333333333,
              "#9c179e"
             ],
             [
              0.4444444444444444,
              "#bd3786"
             ],
             [
              0.5555555555555556,
              "#d8576b"
             ],
             [
              0.6666666666666666,
              "#ed7953"
             ],
             [
              0.7777777777777778,
              "#fb9f3a"
             ],
             [
              0.8888888888888888,
              "#fdca26"
             ],
             [
              1,
              "#f0f921"
             ]
            ],
            "type": "heatmapgl"
           }
          ],
          "histogram": [
           {
            "marker": {
             "pattern": {
              "fillmode": "overlay",
              "size": 10,
              "solidity": 0.2
             }
            },
            "type": "histogram"
           }
          ],
          "histogram2d": [
           {
            "colorbar": {
             "outlinewidth": 0,
             "ticks": ""
            },
            "colorscale": [
             [
              0,
              "#0d0887"
             ],
             [
              0.1111111111111111,
              "#46039f"
             ],
             [
              0.2222222222222222,
              "#7201a8"
             ],
             [
              0.3333333333333333,
              "#9c179e"
             ],
             [
              0.4444444444444444,
              "#bd3786"
             ],
             [
              0.5555555555555556,
              "#d8576b"
             ],
             [
              0.6666666666666666,
              "#ed7953"
             ],
             [
              0.7777777777777778,
              "#fb9f3a"
             ],
             [
              0.8888888888888888,
              "#fdca26"
             ],
             [
              1,
              "#f0f921"
             ]
            ],
            "type": "histogram2d"
           }
          ],
          "histogram2dcontour": [
           {
            "colorbar": {
             "outlinewidth": 0,
             "ticks": ""
            },
            "colorscale": [
             [
              0,
              "#0d0887"
             ],
             [
              0.1111111111111111,
              "#46039f"
             ],
             [
              0.2222222222222222,
              "#7201a8"
             ],
             [
              0.3333333333333333,
              "#9c179e"
             ],
             [
              0.4444444444444444,
              "#bd3786"
             ],
             [
              0.5555555555555556,
              "#d8576b"
             ],
             [
              0.6666666666666666,
              "#ed7953"
             ],
             [
              0.7777777777777778,
              "#fb9f3a"
             ],
             [
              0.8888888888888888,
              "#fdca26"
             ],
             [
              1,
              "#f0f921"
             ]
            ],
            "type": "histogram2dcontour"
           }
          ],
          "mesh3d": [
           {
            "colorbar": {
             "outlinewidth": 0,
             "ticks": ""
            },
            "type": "mesh3d"
           }
          ],
          "parcoords": [
           {
            "line": {
             "colorbar": {
              "outlinewidth": 0,
              "ticks": ""
             }
            },
            "type": "parcoords"
           }
          ],
          "pie": [
           {
            "automargin": true,
            "type": "pie"
           }
          ],
          "scatter": [
           {
            "fillpattern": {
             "fillmode": "overlay",
             "size": 10,
             "solidity": 0.2
            },
            "type": "scatter"
           }
          ],
          "scatter3d": [
           {
            "line": {
             "colorbar": {
              "outlinewidth": 0,
              "ticks": ""
             }
            },
            "marker": {
             "colorbar": {
              "outlinewidth": 0,
              "ticks": ""
             }
            },
            "type": "scatter3d"
           }
          ],
          "scattercarpet": [
           {
            "marker": {
             "colorbar": {
              "outlinewidth": 0,
              "ticks": ""
             }
            },
            "type": "scattercarpet"
           }
          ],
          "scattergeo": [
           {
            "marker": {
             "colorbar": {
              "outlinewidth": 0,
              "ticks": ""
             }
            },
            "type": "scattergeo"
           }
          ],
          "scattergl": [
           {
            "marker": {
             "colorbar": {
              "outlinewidth": 0,
              "ticks": ""
             }
            },
            "type": "scattergl"
           }
          ],
          "scattermapbox": [
           {
            "marker": {
             "colorbar": {
              "outlinewidth": 0,
              "ticks": ""
             }
            },
            "type": "scattermapbox"
           }
          ],
          "scatterpolar": [
           {
            "marker": {
             "colorbar": {
              "outlinewidth": 0,
              "ticks": ""
             }
            },
            "type": "scatterpolar"
           }
          ],
          "scatterpolargl": [
           {
            "marker": {
             "colorbar": {
              "outlinewidth": 0,
              "ticks": ""
             }
            },
            "type": "scatterpolargl"
           }
          ],
          "scatterternary": [
           {
            "marker": {
             "colorbar": {
              "outlinewidth": 0,
              "ticks": ""
             }
            },
            "type": "scatterternary"
           }
          ],
          "surface": [
           {
            "colorbar": {
             "outlinewidth": 0,
             "ticks": ""
            },
            "colorscale": [
             [
              0,
              "#0d0887"
             ],
             [
              0.1111111111111111,
              "#46039f"
             ],
             [
              0.2222222222222222,
              "#7201a8"
             ],
             [
              0.3333333333333333,
              "#9c179e"
             ],
             [
              0.4444444444444444,
              "#bd3786"
             ],
             [
              0.5555555555555556,
              "#d8576b"
             ],
             [
              0.6666666666666666,
              "#ed7953"
             ],
             [
              0.7777777777777778,
              "#fb9f3a"
             ],
             [
              0.8888888888888888,
              "#fdca26"
             ],
             [
              1,
              "#f0f921"
             ]
            ],
            "type": "surface"
           }
          ],
          "table": [
           {
            "cells": {
             "fill": {
              "color": "#EBF0F8"
             },
             "line": {
              "color": "white"
             }
            },
            "header": {
             "fill": {
              "color": "#C8D4E3"
             },
             "line": {
              "color": "white"
             }
            },
            "type": "table"
           }
          ]
         },
         "layout": {
          "annotationdefaults": {
           "arrowcolor": "#2a3f5f",
           "arrowhead": 0,
           "arrowwidth": 1
          },
          "autotypenumbers": "strict",
          "coloraxis": {
           "colorbar": {
            "outlinewidth": 0,
            "ticks": ""
           }
          },
          "colorscale": {
           "diverging": [
            [
             0,
             "#8e0152"
            ],
            [
             0.1,
             "#c51b7d"
            ],
            [
             0.2,
             "#de77ae"
            ],
            [
             0.3,
             "#f1b6da"
            ],
            [
             0.4,
             "#fde0ef"
            ],
            [
             0.5,
             "#f7f7f7"
            ],
            [
             0.6,
             "#e6f5d0"
            ],
            [
             0.7,
             "#b8e186"
            ],
            [
             0.8,
             "#7fbc41"
            ],
            [
             0.9,
             "#4d9221"
            ],
            [
             1,
             "#276419"
            ]
           ],
           "sequential": [
            [
             0,
             "#0d0887"
            ],
            [
             0.1111111111111111,
             "#46039f"
            ],
            [
             0.2222222222222222,
             "#7201a8"
            ],
            [
             0.3333333333333333,
             "#9c179e"
            ],
            [
             0.4444444444444444,
             "#bd3786"
            ],
            [
             0.5555555555555556,
             "#d8576b"
            ],
            [
             0.6666666666666666,
             "#ed7953"
            ],
            [
             0.7777777777777778,
             "#fb9f3a"
            ],
            [
             0.8888888888888888,
             "#fdca26"
            ],
            [
             1,
             "#f0f921"
            ]
           ],
           "sequentialminus": [
            [
             0,
             "#0d0887"
            ],
            [
             0.1111111111111111,
             "#46039f"
            ],
            [
             0.2222222222222222,
             "#7201a8"
            ],
            [
             0.3333333333333333,
             "#9c179e"
            ],
            [
             0.4444444444444444,
             "#bd3786"
            ],
            [
             0.5555555555555556,
             "#d8576b"
            ],
            [
             0.6666666666666666,
             "#ed7953"
            ],
            [
             0.7777777777777778,
             "#fb9f3a"
            ],
            [
             0.8888888888888888,
             "#fdca26"
            ],
            [
             1,
             "#f0f921"
            ]
           ]
          },
          "colorway": [
           "#636efa",
           "#EF553B",
           "#00cc96",
           "#ab63fa",
           "#FFA15A",
           "#19d3f3",
           "#FF6692",
           "#B6E880",
           "#FF97FF",
           "#FECB52"
          ],
          "font": {
           "color": "#2a3f5f"
          },
          "geo": {
           "bgcolor": "white",
           "lakecolor": "white",
           "landcolor": "#E5ECF6",
           "showlakes": true,
           "showland": true,
           "subunitcolor": "white"
          },
          "hoverlabel": {
           "align": "left"
          },
          "hovermode": "closest",
          "mapbox": {
           "style": "light"
          },
          "paper_bgcolor": "white",
          "plot_bgcolor": "#E5ECF6",
          "polar": {
           "angularaxis": {
            "gridcolor": "white",
            "linecolor": "white",
            "ticks": ""
           },
           "bgcolor": "#E5ECF6",
           "radialaxis": {
            "gridcolor": "white",
            "linecolor": "white",
            "ticks": ""
           }
          },
          "scene": {
           "xaxis": {
            "backgroundcolor": "#E5ECF6",
            "gridcolor": "white",
            "gridwidth": 2,
            "linecolor": "white",
            "showbackground": true,
            "ticks": "",
            "zerolinecolor": "white"
           },
           "yaxis": {
            "backgroundcolor": "#E5ECF6",
            "gridcolor": "white",
            "gridwidth": 2,
            "linecolor": "white",
            "showbackground": true,
            "ticks": "",
            "zerolinecolor": "white"
           },
           "zaxis": {
            "backgroundcolor": "#E5ECF6",
            "gridcolor": "white",
            "gridwidth": 2,
            "linecolor": "white",
            "showbackground": true,
            "ticks": "",
            "zerolinecolor": "white"
           }
          },
          "shapedefaults": {
           "line": {
            "color": "#2a3f5f"
           }
          },
          "ternary": {
           "aaxis": {
            "gridcolor": "white",
            "linecolor": "white",
            "ticks": ""
           },
           "baxis": {
            "gridcolor": "white",
            "linecolor": "white",
            "ticks": ""
           },
           "bgcolor": "#E5ECF6",
           "caxis": {
            "gridcolor": "white",
            "linecolor": "white",
            "ticks": ""
           }
          },
          "title": {
           "x": 0.05
          },
          "xaxis": {
           "automargin": true,
           "gridcolor": "white",
           "linecolor": "white",
           "ticks": "",
           "title": {
            "standoff": 15
           },
           "zerolinecolor": "white",
           "zerolinewidth": 2
          },
          "yaxis": {
           "automargin": true,
           "gridcolor": "white",
           "linecolor": "white",
           "ticks": "",
           "title": {
            "standoff": 15
           },
           "zerolinecolor": "white",
           "zerolinewidth": 2
          }
         }
        },
        "title": {
         "text": "Reactivity insertion as a function of Na void fraction."
        },
        "xaxis": {
         "title": {
          "text": "Na void fraction"
         }
        },
        "yaxis": {
         "title": {
          "text": "Reactivity"
         }
        }
       }
      }
     },
     "metadata": {},
     "output_type": "display_data"
    }
   ],
   "source": [
    "\"\"\"Pretty picture time.\"\"\"\n",
    "import plotly.graph_objects as go\n",
    "\n",
    "x_values = np.linspace(0.0, 1.0, num=20)  # volume fraction\n",
    "y_values = [void_reactivity(i) for i in x_values]  # reactivity\n",
    "\n",
    "fig = go.Figure(\n",
    "    data=[go.Scatter(x=x_values, y=y_values, mode=\"lines\")],\n",
    ")\n",
    "fig.update_layout(\n",
    "    title=\"Reactivity insertion as a function of Na void fraction.\",\n",
    "    xaxis_title=\"Na void fraction\",\n",
    "    yaxis_title=\"Reactivity\"\n",
    ")\n",
    "\n",
    "fig.show()"
   ]
  },
  {
   "cell_type": "markdown",
   "metadata": {},
   "source": [
    "This is kind of boring\n",
    "And we all knew this would just be a linear function of $\\alpha_{Na}$.\n",
    "More complex neutronics relationships can improve the accuracy of Equation 1.\n",
    "* Actually consider thermal fission\n",
    "* More energy groups\n",
    "* Heterogeneity"
   ]
  },
  {
   "cell_type": "markdown",
   "metadata": {},
   "source": [
    "A subchannel code (e.g. COBRA) could be used to generate the local void fraction used in the above python function `void_reactivity`.\n",
    "As it is I've spent a lot of time on this (fairly simple) derivation and won't try and build a subchannel solver right now :).\n"
   ]
  },
  {
   "cell_type": "markdown",
   "metadata": {},
   "source": [
    "## Question 1, Part 2\n",
    "How hot do things get for a Na void reactivity insertion?"
   ]
  },
  {
   "cell_type": "code",
   "execution_count": 141,
   "metadata": {},
   "outputs": [],
   "source": [
    "\"\"\"Reactor constants we'll need for this part.\n",
    "\n",
    "Again assumes startup and metal core at BOC.\n",
    "\n",
    "Attributes:\n",
    "    reactor_power (pint.Quantity): ABR thermal reactor power, 1000MW_th\n",
    "    l_p (pint.Quantity): ABR prompt neutron lifetime\n",
    "\n",
    "\"\"\"\n",
    "reactor_power = Quant(1000, \"MW\")  # ABR thermal reactor power\n",
    "l_p = Quant(0.37, \"microseconds\") # Prompt neutron lifetime\n",
    "tau = Quant(13.05, \"s\") # Weighted delayed neutron decay constant\n",
    "\n"
   ]
  },
  {
   "cell_type": "code",
   "execution_count": 142,
   "metadata": {},
   "outputs": [],
   "source": [
    "def void_reactor_power(alpha_na=0.0, time=Quant(0.0, \"s\")):\n",
    "    \"\"\"Calculate reactor power at a given time due to Na voiding.\n",
    "\n",
    "    Using point kinetics and the reactivity insertion due to voiding,\n",
    "    calculate reactor power after a given time. Point kinetics equation\n",
    "    uses the mean generation time of delayed and fast neutrons, l_d,\n",
    "    with only one group of delayed neutrons.\n",
    "    These equations are\n",
    "        * l_d = (1-beta)l_p + tau*beta\n",
    "        * P(t) = P(0) * exp((k-1)/l_d * t)\n",
    "    \n",
    "    Args:\n",
    "        alpha_na (float): Sodium void fraction of ABR core.\n",
    "            1.0 = Entire active core is vapor\n",
    "            0.0 = Entire active core is liquid\n",
    "        time (pint.Quantity, float): Time in seconds at which to calculate reactor power.\n",
    "    \"\"\"\n",
    "    # If time is not a quantity, assume given in seconds\n",
    "    if not isinstance(time, pint.Quantity):\n",
    "        time = Quant(time, 's')\n",
    "\n",
    "    # Calculate the mean neutron generation lifetime\n",
    "    l_d = (1-beta_eff)*l_p + tau*beta_eff\n",
    "\n",
    "    # Multiplication factor is given by void_reactivity expression\n",
    "    k = 1 / (1 - void_reactivity(alpha_na))\n",
    "\n",
    "    # Calculate reactor period and validate unitless\n",
    "    period = l_d / (k - 1)\n",
    "    \n",
    "    # Calculate reactor power at provided time\n",
    "    return reactor_power*np.exp((time.to(\"s\")/period.to(\"s\")).m)\n"
   ]
  },
  {
   "cell_type": "markdown",
   "metadata": {},
   "source": [
    "rather than solutions to traditional point reactor kinetics equations.\n",
    "If I have time, I'll loop back and solve a simple version in a time\n",
    "loop because that actually sounds pretty fun! But I've spent a "
   ]
  },
  {
   "cell_type": "code",
   "execution_count": 143,
   "metadata": {},
   "outputs": [],
   "source": [
    "\"\"\"Testing block for void_reactor_power.\"\"\"\n",
    "assert void_reactor_power(alpha_na=1.0, time=0.0) == reactor_power\n",
    "# Just ignore the divide by zero...totally normal\n",
    "assert void_reactor_power(alpha_na=0.0, time=Quant(1000.0, 'months')) == reactor_power"
   ]
  },
  {
   "cell_type": "markdown",
   "metadata": {},
   "source": []
  },
  {
   "cell_type": "code",
   "execution_count": 164,
   "metadata": {},
   "outputs": [
    {
     "data": {
      "application/vnd.plotly.v1+json": {
       "config": {
        "plotlyServerURL": "https://plot.ly"
       },
       "data": [
        {
         "contours": {
          "x": {
           "end": 5,
           "show": true,
           "size": 0.5,
           "start": 0
          },
          "y": {
           "end": 1,
           "show": true,
           "size": 0.1,
           "start": 0
          }
         },
         "type": "surface",
         "x": [
          0,
          0.2631578947368421,
          0.5263157894736842,
          0.7894736842105263,
          1.0526315789473684,
          1.3157894736842104,
          1.5789473684210527,
          1.8421052631578947,
          2.1052631578947367,
          2.3684210526315788,
          2.631578947368421,
          2.894736842105263,
          3.1578947368421053,
          3.4210526315789473,
          3.6842105263157894,
          3.9473684210526314,
          4.2105263157894735,
          4.473684210526316,
          4.7368421052631575,
          5
         ],
         "y": [
          0,
          0.05263157894736842,
          0.10526315789473684,
          0.15789473684210525,
          0.21052631578947367,
          0.2631578947368421,
          0.3157894736842105,
          0.3684210526315789,
          0.42105263157894735,
          0.47368421052631576,
          0.5263157894736842,
          0.5789473684210527,
          0.631578947368421,
          0.6842105263157894,
          0.7368421052631579,
          0.7894736842105263,
          0.8421052631578947,
          0.894736842105263,
          0.9473684210526315,
          1
         ],
         "z": [
          [
           1000,
           1000,
           1000,
           1000,
           1000,
           1000,
           1000,
           1000,
           1000,
           1000,
           1000,
           1000,
           1000,
           1000,
           1000,
           1000,
           1000,
           1000,
           1000,
           1000
          ],
          [
           1000,
           1004.7271711146219,
           1009.4766883759906,
           1014.2486574181657,
           1019.0431843745569,
           1023.8603758802847,
           1028.700339074552,
           1033.5631816030268,
           1038.4490116202373,
           1043.3579377919762,
           1048.2900692977178,
           1053.245515833047,
           1058.224387612098,
           1063.2267953700064,
           1068.2528503653714,
           1073.302664382731,
           1078.3763497350478,
           1083.4740192662066,
           1088.5957863535252,
           1093.7417649102745
          ],
          [
           1000,
           1009.484265488203,
           1019.0584822682569,
           1028.7235034620942,
           1038.480190282883,
           1048.3294121117654,
           1058.2720465753252,
           1068.3089796237896,
           1078.441105609973,
           1088.669327368969,
           1098.9945562986,
           1109.4177124406258,
           1119.9397245627276,
           1130.5615302412655,
           1141.2840759448227,
           1152.108317118542,
           1163.035218269261,
           1174.0657530514568,
           1185.2009043540038,
           1196.4416643877555
          ],
          [
           1000,
           1014.2715145708673,
           1028.7467052698812,
           1043.4284788638722,
           1058.3197836036359,
           1073.4236098159722,
           1088.7429905041738,
           1104.2810019570838,
           1120.0407643668464,
           1136.0254424554735,
           1152.2382461103527,
           1168.6824310288273,
           1185.3612993719717,
           1202.2782004277012,
           1219.4365312833413,
           1236.8397375077996,
           1254.4913138434697,
           1272.3948049080134,
           1290.5538059061541,
           1308.9719633516322
          ],
          [
           1000,
           1019.0891519073513,
           1038.5426995352445,
           1058.3675988889433,
           1078.5709387579532,
           1099.1599432507583,
           1120.1419743779475,
           1141.5245346846486,
           1163.3152699332122,
           1185.5219718371086,
           1208.1525808470099,
           1231.215188990057,
           1254.7180427633264,
           1278.66954608253,
           1303.0782632870032,
           1327.9529222020562,
           1353.3024172597825,
           1379.1358126794403,
           1405.4623457085465,
           1432.291429925839
          ],
          [
           1000,
           1023.9374131585959,
           1048.4478260659168,
           1073.5449548536883,
           1099.2428439823473,
           1125.5558741003827,
           1152.498770091808,
           1180.0866093162692,
           1208.3348300463992,
           1237.2592401071413,
           1266.8760257218762,
           1297.2017605703008,
           1328.25341506313,
           1360.048365838812,
           1392.6044054875688,
           1425.9397525082054,
           1460.0730615032603,
           1495.0234336181995,
           1530.810427230501,
           1567.4540688946042
          ],
          [
           1000,
           1028.816536123593,
           1058.4634650013484,
           1088.9647156760634,
           1120.344906742661,
           1152.6293662186945,
           1185.8441519874495,
           1220.0160728301476,
           1255.1727100642215,
           1291.3424398051354,
           1328.5544558697088,
           1366.838793339439,
           1406.2263528028334,
           1446.7489252963248,
           1488.4392179638958,
           1531.330880456125,
           1575.4585320899625,
           1620.8577897911557,
           1667.56529684188,
           1715.618752456774
          ],
          [
           1000,
           1033.7267607614758,
           1068.5910159144132,
           1104.631129460021,
           1141.8867592929978,
           1180.3989008403694,
           1220.2099321721214,
           1261.363660633267,
           1303.9053710486644,
           1347.8818755536258,
           1393.341565105152,
           1440.3344627304737,
           1488.9122785714933,
           1539.1284667856978,
           1591.0382843661557,
           1644.6988519453218,
           1700.1692166495552,
           1757.5104170735206,
           1816.7855504459606,
           1878.0598420607573
          ],
          [
           1000,
           1038.6683292138698,
           1078.831898111932,
           1120.548525114548,
           1163.878264383794,
           1208.883492275854,
           1255.6289971363894,
           1304.1820725681405,
           1354.6126143050326,
           1406.9932208322405,
           1461.3992978970648,
           1517.9091670610667,
           1576.6041784497352,
           1637.5688278619923,
           1700.8908784081307,
           1766.6614868512847,
           1834.975334834315,
           1905.9307651810193,
           1979.629923467882,
           2056.178905070166
          ],
          [
           1000,
           1043.6414858275034,
           1089.1875509402387,
           1136.72131400809,
           1186.3295211231953,
           1238.1027041060418,
           1292.135345720279,
           1348.5260520977467,
           1407.3777326883894,
           1468.7977880634535,
           1532.8983059146929,
           1599.7962656072725,
           1669.6137516596655,
           1742.478176540125,
           1818.5225131863347,
           1897.8855376725517,
           1980.712082467112,
           2067.153300742465,
           2157.3669422200937,
           2251.517641053716
          ],
          [
           1000,
           1048.6464771770775,
           1099.6594340958952,
           1153.1539916591994,
           1209.2508709961046,
           1268.0766658933778,
           1329.7641284795448,
           1394.4524688065214,
           1462.2876690048377,
           1533.4228127214033,
           1608.0184305832654,
           1686.2428624669544,
           1768.2726373909632,
           1854.2928718886535,
           1944.4976877606027,
           2039.0906501491295,
           2138.2852269236014,
           2242.305270413223,
           2351.38552257442,
           2465.7721447328477
          ],
          [
           1000,
           1053.6835520884001,
           1110.249027941628,
           1169.851139464228,
           1232.6529040453297,
           1298.8260904265649,
           1368.5516885057525,
           1442.0204043613187,
           1519.4331818513854,
           1601.0017522141475,
           1686.9492131727554,
           1777.5106391286004,
           1872.9337241119458,
           1973.4794592484307,
           2079.4228465943816,
           2191.05365129334,
           2308.677194111025,
           2432.615186516385,
           2563.20661059277,
           2700.808646185859
          ],
          [
           1000,
           1058.7529616617896,
           1120.957833827611,
           1186.8174264629674,
           1256.54646521949,
           1330.372291516788,
           1408.5356037561812,
           1491.2912420829339,
           1578.909019255595,
           1671.6746003313729,
           1769.8904340356296,
           1873.876738852093,
           1983.9725470487897,
           2100.5368100435903,
           2223.9495687132594,
           2354.613192461623,
           2492.953691086665,
           2639.422103723697,
           2794.495969393055,
           2958.6808839468313
          ],
          [
           1000,
           1063.8549592957545,
           1131.7873744181713,
           1204.0576111430923,
           1280.9426608923775,
           1362.7372023638557,
           1449.7547309516099,
           1542.3287602853525,
           1640.8141004940446,
           1745.5882180929918,
           1857.0526827064682,
           1975.634706170761,
           2101.7887799165746,
           2235.998416906421,
           2378.7780048033515,
           2530.6747774737055,
           2692.270912380081,
           2864.1857619032553,
           3047.078227145066,
           3241.649283310394
          ],
          [
           1000,
           1068.9898007109427,
           1142.7391940240213,
           1221.576543284322,
           1305.85286555867,
           1395.9433945113763,
           1492.249251102473,
           1595.1992295470866,
           1705.2517064877895,
           1822.8966818803772,
           1948.6579606799435,
           2083.095485041045,
           2226.807827415892,
           2380.4348556508817,
           2544.660581947618,
           2720.216208373176,
           2907.883382479518,
           3108.4976775274426,
           3322.952312810489,
           3552.2021306432516
          ],
          [
           1000,
           1074.1577439743717,
           1153.814858940112,
           1239.3791658432183,
           1331.28872871099,
           1430.0140974107062,
           1536.060716726232,
           1649.9715140863057,
           1772.3296791929242,
           1903.7616497806932,
           2044.940318793357,
           2196.588479397305,
           2359.482525469505,
           2534.4564265052763,
           2722.4059972962555,
           2924.293484238045,
           3141.152491748094,
           3374.093274015608,
           3624.308419175707,
           3893.0789550090994
          ],
          [
           1000,
           1079.3590495239453,
           1165.0159577892346,
           1257.470516879617,
           1357.2621819035676,
           1464.9732186142307,
           1581.2321008214908,
           1706.7171774194358,
           1842.160630425633,
           1988.352747126643,
           2146.146531256939,
           2316.4626801166014,
           2500.294956668346,
           2698.71598795906,
           2912.8835236985656,
           3144.0471915132443,
           3393.555788290165,
           3662.865150155356,
           3953.546647006068,
           4267.296351161051
          ],
          [
           1000,
           1084.5939801932511,
           1176.3441018714384,
           1275.8557315255987,
           1383.785446007721,
           1500.8453646190071,
           1627.8078476667204,
           1765.5105924906577,
           1914.8621605827873,
           2076.8479722679335,
           2252.5368084983606,
           2443.08786266104,
           2649.7583889253606,
           2873.911997595014,
           3117.0276521967135,
           3380.709427668458,
           3666.69709403178,
           3976.877595378957,
           4313.297499913428,
           4678.176503188704
          ],
          [
           1000,
           1089.862801236652,
           1187.800925519402,
           1294.5400439980633,
           1410.8710386647476,
           1537.6558623828264,
           1675.8339255145072,
           1826.4290564686553,
           1990.5570877429438,
           2169.4341236689966,
           2364.3855511202737,
           2576.8558599474068,
           2808.419345905363,
           3060.7917753756246,
           3335.843098312983,
           3635.6113036133393,
           3962.31751956367,
           4318.382471260725,
           4706.444416939468,
           5129.3786961102505
          ],
          [
           1000,
           1095.1657803546677,
           1199.3880864598482,
           1313.5287896558916,
           1438.5317819418167,
           1575.4307815353004,
           1725.3578812548712,
           1889.5529104155673,
           2069.3736876566977,
           2266.3072494879643,
           2481.982147408927,
           2718.1819152934513,
           2976.859818408298,
           3260.1550060335785,
           3570.4102012599405,
           3910.191074249109,
           4282.3074591658815,
           4689.836590236018,
           5136.148549081702,
           5624.934133772556
          ]
         ]
        }
       ],
       "layout": {
        "scene": {
         "xaxis": {
          "title": {
           "text": "Time (s)"
          }
         },
         "yaxis": {
          "title": {
           "text": "Na void"
          }
         },
         "zaxis": {
          "title": {
           "text": "Power (MW)"
          }
         }
        },
        "template": {
         "data": {
          "bar": [
           {
            "error_x": {
             "color": "#2a3f5f"
            },
            "error_y": {
             "color": "#2a3f5f"
            },
            "marker": {
             "line": {
              "color": "#E5ECF6",
              "width": 0.5
             },
             "pattern": {
              "fillmode": "overlay",
              "size": 10,
              "solidity": 0.2
             }
            },
            "type": "bar"
           }
          ],
          "barpolar": [
           {
            "marker": {
             "line": {
              "color": "#E5ECF6",
              "width": 0.5
             },
             "pattern": {
              "fillmode": "overlay",
              "size": 10,
              "solidity": 0.2
             }
            },
            "type": "barpolar"
           }
          ],
          "carpet": [
           {
            "aaxis": {
             "endlinecolor": "#2a3f5f",
             "gridcolor": "white",
             "linecolor": "white",
             "minorgridcolor": "white",
             "startlinecolor": "#2a3f5f"
            },
            "baxis": {
             "endlinecolor": "#2a3f5f",
             "gridcolor": "white",
             "linecolor": "white",
             "minorgridcolor": "white",
             "startlinecolor": "#2a3f5f"
            },
            "type": "carpet"
           }
          ],
          "choropleth": [
           {
            "colorbar": {
             "outlinewidth": 0,
             "ticks": ""
            },
            "type": "choropleth"
           }
          ],
          "contour": [
           {
            "colorbar": {
             "outlinewidth": 0,
             "ticks": ""
            },
            "colorscale": [
             [
              0,
              "#0d0887"
             ],
             [
              0.1111111111111111,
              "#46039f"
             ],
             [
              0.2222222222222222,
              "#7201a8"
             ],
             [
              0.3333333333333333,
              "#9c179e"
             ],
             [
              0.4444444444444444,
              "#bd3786"
             ],
             [
              0.5555555555555556,
              "#d8576b"
             ],
             [
              0.6666666666666666,
              "#ed7953"
             ],
             [
              0.7777777777777778,
              "#fb9f3a"
             ],
             [
              0.8888888888888888,
              "#fdca26"
             ],
             [
              1,
              "#f0f921"
             ]
            ],
            "type": "contour"
           }
          ],
          "contourcarpet": [
           {
            "colorbar": {
             "outlinewidth": 0,
             "ticks": ""
            },
            "type": "contourcarpet"
           }
          ],
          "heatmap": [
           {
            "colorbar": {
             "outlinewidth": 0,
             "ticks": ""
            },
            "colorscale": [
             [
              0,
              "#0d0887"
             ],
             [
              0.1111111111111111,
              "#46039f"
             ],
             [
              0.2222222222222222,
              "#7201a8"
             ],
             [
              0.3333333333333333,
              "#9c179e"
             ],
             [
              0.4444444444444444,
              "#bd3786"
             ],
             [
              0.5555555555555556,
              "#d8576b"
             ],
             [
              0.6666666666666666,
              "#ed7953"
             ],
             [
              0.7777777777777778,
              "#fb9f3a"
             ],
             [
              0.8888888888888888,
              "#fdca26"
             ],
             [
              1,
              "#f0f921"
             ]
            ],
            "type": "heatmap"
           }
          ],
          "heatmapgl": [
           {
            "colorbar": {
             "outlinewidth": 0,
             "ticks": ""
            },
            "colorscale": [
             [
              0,
              "#0d0887"
             ],
             [
              0.1111111111111111,
              "#46039f"
             ],
             [
              0.2222222222222222,
              "#7201a8"
             ],
             [
              0.3333333333333333,
              "#9c179e"
             ],
             [
              0.4444444444444444,
              "#bd3786"
             ],
             [
              0.5555555555555556,
              "#d8576b"
             ],
             [
              0.6666666666666666,
              "#ed7953"
             ],
             [
              0.7777777777777778,
              "#fb9f3a"
             ],
             [
              0.8888888888888888,
              "#fdca26"
             ],
             [
              1,
              "#f0f921"
             ]
            ],
            "type": "heatmapgl"
           }
          ],
          "histogram": [
           {
            "marker": {
             "pattern": {
              "fillmode": "overlay",
              "size": 10,
              "solidity": 0.2
             }
            },
            "type": "histogram"
           }
          ],
          "histogram2d": [
           {
            "colorbar": {
             "outlinewidth": 0,
             "ticks": ""
            },
            "colorscale": [
             [
              0,
              "#0d0887"
             ],
             [
              0.1111111111111111,
              "#46039f"
             ],
             [
              0.2222222222222222,
              "#7201a8"
             ],
             [
              0.3333333333333333,
              "#9c179e"
             ],
             [
              0.4444444444444444,
              "#bd3786"
             ],
             [
              0.5555555555555556,
              "#d8576b"
             ],
             [
              0.6666666666666666,
              "#ed7953"
             ],
             [
              0.7777777777777778,
              "#fb9f3a"
             ],
             [
              0.8888888888888888,
              "#fdca26"
             ],
             [
              1,
              "#f0f921"
             ]
            ],
            "type": "histogram2d"
           }
          ],
          "histogram2dcontour": [
           {
            "colorbar": {
             "outlinewidth": 0,
             "ticks": ""
            },
            "colorscale": [
             [
              0,
              "#0d0887"
             ],
             [
              0.1111111111111111,
              "#46039f"
             ],
             [
              0.2222222222222222,
              "#7201a8"
             ],
             [
              0.3333333333333333,
              "#9c179e"
             ],
             [
              0.4444444444444444,
              "#bd3786"
             ],
             [
              0.5555555555555556,
              "#d8576b"
             ],
             [
              0.6666666666666666,
              "#ed7953"
             ],
             [
              0.7777777777777778,
              "#fb9f3a"
             ],
             [
              0.8888888888888888,
              "#fdca26"
             ],
             [
              1,
              "#f0f921"
             ]
            ],
            "type": "histogram2dcontour"
           }
          ],
          "mesh3d": [
           {
            "colorbar": {
             "outlinewidth": 0,
             "ticks": ""
            },
            "type": "mesh3d"
           }
          ],
          "parcoords": [
           {
            "line": {
             "colorbar": {
              "outlinewidth": 0,
              "ticks": ""
             }
            },
            "type": "parcoords"
           }
          ],
          "pie": [
           {
            "automargin": true,
            "type": "pie"
           }
          ],
          "scatter": [
           {
            "fillpattern": {
             "fillmode": "overlay",
             "size": 10,
             "solidity": 0.2
            },
            "type": "scatter"
           }
          ],
          "scatter3d": [
           {
            "line": {
             "colorbar": {
              "outlinewidth": 0,
              "ticks": ""
             }
            },
            "marker": {
             "colorbar": {
              "outlinewidth": 0,
              "ticks": ""
             }
            },
            "type": "scatter3d"
           }
          ],
          "scattercarpet": [
           {
            "marker": {
             "colorbar": {
              "outlinewidth": 0,
              "ticks": ""
             }
            },
            "type": "scattercarpet"
           }
          ],
          "scattergeo": [
           {
            "marker": {
             "colorbar": {
              "outlinewidth": 0,
              "ticks": ""
             }
            },
            "type": "scattergeo"
           }
          ],
          "scattergl": [
           {
            "marker": {
             "colorbar": {
              "outlinewidth": 0,
              "ticks": ""
             }
            },
            "type": "scattergl"
           }
          ],
          "scattermapbox": [
           {
            "marker": {
             "colorbar": {
              "outlinewidth": 0,
              "ticks": ""
             }
            },
            "type": "scattermapbox"
           }
          ],
          "scatterpolar": [
           {
            "marker": {
             "colorbar": {
              "outlinewidth": 0,
              "ticks": ""
             }
            },
            "type": "scatterpolar"
           }
          ],
          "scatterpolargl": [
           {
            "marker": {
             "colorbar": {
              "outlinewidth": 0,
              "ticks": ""
             }
            },
            "type": "scatterpolargl"
           }
          ],
          "scatterternary": [
           {
            "marker": {
             "colorbar": {
              "outlinewidth": 0,
              "ticks": ""
             }
            },
            "type": "scatterternary"
           }
          ],
          "surface": [
           {
            "colorbar": {
             "outlinewidth": 0,
             "ticks": ""
            },
            "colorscale": [
             [
              0,
              "#0d0887"
             ],
             [
              0.1111111111111111,
              "#46039f"
             ],
             [
              0.2222222222222222,
              "#7201a8"
             ],
             [
              0.3333333333333333,
              "#9c179e"
             ],
             [
              0.4444444444444444,
              "#bd3786"
             ],
             [
              0.5555555555555556,
              "#d8576b"
             ],
             [
              0.6666666666666666,
              "#ed7953"
             ],
             [
              0.7777777777777778,
              "#fb9f3a"
             ],
             [
              0.8888888888888888,
              "#fdca26"
             ],
             [
              1,
              "#f0f921"
             ]
            ],
            "type": "surface"
           }
          ],
          "table": [
           {
            "cells": {
             "fill": {
              "color": "#EBF0F8"
             },
             "line": {
              "color": "white"
             }
            },
            "header": {
             "fill": {
              "color": "#C8D4E3"
             },
             "line": {
              "color": "white"
             }
            },
            "type": "table"
           }
          ]
         },
         "layout": {
          "annotationdefaults": {
           "arrowcolor": "#2a3f5f",
           "arrowhead": 0,
           "arrowwidth": 1
          },
          "autotypenumbers": "strict",
          "coloraxis": {
           "colorbar": {
            "outlinewidth": 0,
            "ticks": ""
           }
          },
          "colorscale": {
           "diverging": [
            [
             0,
             "#8e0152"
            ],
            [
             0.1,
             "#c51b7d"
            ],
            [
             0.2,
             "#de77ae"
            ],
            [
             0.3,
             "#f1b6da"
            ],
            [
             0.4,
             "#fde0ef"
            ],
            [
             0.5,
             "#f7f7f7"
            ],
            [
             0.6,
             "#e6f5d0"
            ],
            [
             0.7,
             "#b8e186"
            ],
            [
             0.8,
             "#7fbc41"
            ],
            [
             0.9,
             "#4d9221"
            ],
            [
             1,
             "#276419"
            ]
           ],
           "sequential": [
            [
             0,
             "#0d0887"
            ],
            [
             0.1111111111111111,
             "#46039f"
            ],
            [
             0.2222222222222222,
             "#7201a8"
            ],
            [
             0.3333333333333333,
             "#9c179e"
            ],
            [
             0.4444444444444444,
             "#bd3786"
            ],
            [
             0.5555555555555556,
             "#d8576b"
            ],
            [
             0.6666666666666666,
             "#ed7953"
            ],
            [
             0.7777777777777778,
             "#fb9f3a"
            ],
            [
             0.8888888888888888,
             "#fdca26"
            ],
            [
             1,
             "#f0f921"
            ]
           ],
           "sequentialminus": [
            [
             0,
             "#0d0887"
            ],
            [
             0.1111111111111111,
             "#46039f"
            ],
            [
             0.2222222222222222,
             "#7201a8"
            ],
            [
             0.3333333333333333,
             "#9c179e"
            ],
            [
             0.4444444444444444,
             "#bd3786"
            ],
            [
             0.5555555555555556,
             "#d8576b"
            ],
            [
             0.6666666666666666,
             "#ed7953"
            ],
            [
             0.7777777777777778,
             "#fb9f3a"
            ],
            [
             0.8888888888888888,
             "#fdca26"
            ],
            [
             1,
             "#f0f921"
            ]
           ]
          },
          "colorway": [
           "#636efa",
           "#EF553B",
           "#00cc96",
           "#ab63fa",
           "#FFA15A",
           "#19d3f3",
           "#FF6692",
           "#B6E880",
           "#FF97FF",
           "#FECB52"
          ],
          "font": {
           "color": "#2a3f5f"
          },
          "geo": {
           "bgcolor": "white",
           "lakecolor": "white",
           "landcolor": "#E5ECF6",
           "showlakes": true,
           "showland": true,
           "subunitcolor": "white"
          },
          "hoverlabel": {
           "align": "left"
          },
          "hovermode": "closest",
          "mapbox": {
           "style": "light"
          },
          "paper_bgcolor": "white",
          "plot_bgcolor": "#E5ECF6",
          "polar": {
           "angularaxis": {
            "gridcolor": "white",
            "linecolor": "white",
            "ticks": ""
           },
           "bgcolor": "#E5ECF6",
           "radialaxis": {
            "gridcolor": "white",
            "linecolor": "white",
            "ticks": ""
           }
          },
          "scene": {
           "xaxis": {
            "backgroundcolor": "#E5ECF6",
            "gridcolor": "white",
            "gridwidth": 2,
            "linecolor": "white",
            "showbackground": true,
            "ticks": "",
            "zerolinecolor": "white"
           },
           "yaxis": {
            "backgroundcolor": "#E5ECF6",
            "gridcolor": "white",
            "gridwidth": 2,
            "linecolor": "white",
            "showbackground": true,
            "ticks": "",
            "zerolinecolor": "white"
           },
           "zaxis": {
            "backgroundcolor": "#E5ECF6",
            "gridcolor": "white",
            "gridwidth": 2,
            "linecolor": "white",
            "showbackground": true,
            "ticks": "",
            "zerolinecolor": "white"
           }
          },
          "shapedefaults": {
           "line": {
            "color": "#2a3f5f"
           }
          },
          "ternary": {
           "aaxis": {
            "gridcolor": "white",
            "linecolor": "white",
            "ticks": ""
           },
           "baxis": {
            "gridcolor": "white",
            "linecolor": "white",
            "ticks": ""
           },
           "bgcolor": "#E5ECF6",
           "caxis": {
            "gridcolor": "white",
            "linecolor": "white",
            "ticks": ""
           }
          },
          "title": {
           "x": 0.05
          },
          "xaxis": {
           "automargin": true,
           "gridcolor": "white",
           "linecolor": "white",
           "ticks": "",
           "title": {
            "standoff": 15
           },
           "zerolinecolor": "white",
           "zerolinewidth": 2
          },
          "yaxis": {
           "automargin": true,
           "gridcolor": "white",
           "linecolor": "white",
           "ticks": "",
           "title": {
            "standoff": 15
           },
           "zerolinecolor": "white",
           "zerolinewidth": 2
          }
         }
        },
        "title": {
         "text": "Reactor power as a function of Na void fraction and time."
        }
       }
      }
     },
     "metadata": {},
     "output_type": "display_data"
    }
   ],
   "source": [
    "\"\"\"Pretty 3D pictures!\"\"\"\n",
    "alpha_array = np.linspace(0.0, 1.0, num=20)\n",
    "time_array = np.linspace(0.0, 5, num=20)\n",
    "power_surface = np.empty([alpha_array.size, time_array.size])\n",
    "\n",
    "# Loop over the void and time range to fill in the power surface\n",
    "for i in range(alpha_array.size):\n",
    "    for j in range(time_array.size):\n",
    "        power_surface[i][j] = void_reactor_power(alpha_array[i], time_array[j]).m\n",
    "\n",
    "fig = go.Figure(\n",
    "        data=go.Surface(\n",
    "            x=time_array, \n",
    "            y=alpha_array, \n",
    "            z=power_surface,\n",
    "            contours = {\n",
    "                'x': {'show': True, 'start': 0, 'end': 5, 'size': 0.5},\n",
    "                'y': {'show': True, 'start': 0, 'end': 1, 'size': 0.1}\n",
    "        }\n",
    "        )\n",
    ")\n",
    "fig.update_layout(\n",
    "    title=\"Reactor power as a function of Na void fraction and time.\",\n",
    "    scene = dict(\n",
    "        xaxis_title=\"Time (s)\",\n",
    "        yaxis_title=\"Na void\",\n",
    "        zaxis_title=\"Power (MW)\",\n",
    "    )\n",
    ")\n",
    "fig.show()"
   ]
  },
  {
   "cell_type": "markdown",
   "metadata": {},
   "source": [
    "Temperature increase is calculated using \n",
    "$$\n",
    "\\dot{q} = \\dot{m}c_p \\Delta T \\\\\n",
    "\\Delta T = \\frac{\\dot{q}}{\\dot{m} c_p}\n",
    "$$"
   ]
  },
  {
   "cell_type": "markdown",
   "metadata": {},
   "source": [
    "Only consider temperature rise of the Na coolant (this assumption is a bit painful for me)."
   ]
  },
  {
   "cell_type": "markdown",
   "metadata": {},
   "source": [
    "For $\\dot{m}$, use mass flow of assembly with peak cladding temp.\n",
    "Peak cladding temp = $631.9^oC$\n",
    "Mass flow of limiting assembly = $29.6 kg/s$"
   ]
  },
  {
   "cell_type": "markdown",
   "metadata": {},
   "source": [
    "![image](img/peak_cladding_temps.png)\n",
    "![image](img/mass_flow_rates.png)\n"
   ]
  },
  {
   "cell_type": "markdown",
   "metadata": {},
   "source": [
    "For $\\dot{q}$, use `void_reactor_power` and the power distribution of the limiting assembly $\\dot{q}_{asmbly} = \\frac{6.11MW}{1000MW} \\dot{q}\\left(\\alpha_{Na}, t\\right)$\n",
    "\n",
    "![image](img/power_distributions.png)"
   ]
  },
  {
   "cell_type": "markdown",
   "metadata": {},
   "source": [
    "For a local blockage (likely in the orifice plate?), assume only one assembly will void."
   ]
  },
  {
   "cell_type": "code",
   "execution_count": 165,
   "metadata": {},
   "outputs": [],
   "source": [
    "\"\"\"Maximum void fraction for local blockage.\n",
    "\n",
    "Assumes only one assembly of the core region of ABR will void.\n",
    "\"\"\"\n",
    "total_assemblies = 180 # Total core assemblies\n",
    "voided_assemblies = 1 # Assume only one voides for local blockage\n",
    "alpha_na_max = voided_assemblies / total_assemblies"
   ]
  },
  {
   "cell_type": "code",
   "execution_count": 166,
   "metadata": {},
   "outputs": [],
   "source": [
    "\"\"\"Specific heat of Na\"\"\"\n",
    "cp_na_g = Quant(2.51, \"kJ/kg/K\") # Vapor at 1200K\n",
    "cp_na_l = Quant(1.277, \"kJ/kg/K\") # Liquid at 700K"
   ]
  },
  {
   "cell_type": "code",
   "execution_count": 167,
   "metadata": {},
   "outputs": [],
   "source": [
    "\"\"\"Limiting assembly values.\"\"\"\n",
    "# Mass flow for limiting assembly\n",
    "mdot = Quant(29.6, \"kg/s\")\n",
    "\n",
    "# Power fraction of the limiting channel\n",
    "power_frac = Quant(6.11, \"MW\")/Quant(1000, \"MW\")\n"
   ]
  },
  {
   "cell_type": "code",
   "execution_count": 168,
   "metadata": {},
   "outputs": [],
   "source": [
    "def void_temp_rise(alpha_na=0.0, time=Quant(0.0, \"s\")):\n",
    "    \"\"\"Assembly temperature rise for a local blockage.\n",
    "\n",
    "    Calculate the temperature rise after a given period of time\n",
    "    of a single assembly that experiences a local blockage.\n",
    "    Assumes only sodium is absorbing heat.\n",
    "\n",
    "    Args:\n",
    "        alpha_na (float): Sodium void fraction of ABR core.\n",
    "            1.0 = Entire active core is vapor\n",
    "            0.0 = Entire active core is liquid\n",
    "        time (pint.Quantity, float): Time in seconds at which to calculate reactor power.\n",
    "        \n",
    "    Returns:\n",
    "        (pint.Quantity): Temperature rise in K\n",
    "    \"\"\"\n",
    "    # If time is not a quantity, assume given in seconds\n",
    "    if not isinstance(time, pint.Quantity):\n",
    "        time = Quant(time, 's')\n",
    "\n",
    "    # Calculate the specific heat of Na using the volume fraction\n",
    "    cp_na = alpha_na*cp_na_g + (1-alpha_na)*cp_na_l\n",
    "\n",
    "    # Calculate the temperature rise\n",
    "    return (power_frac*void_reactor_power(alpha_na, time)/mdot/cp_na).to(\"K\")\n"
   ]
  },
  {
   "cell_type": "code",
   "execution_count": 169,
   "metadata": {},
   "outputs": [
    {
     "name": "stdout",
     "output_type": "stream",
     "text": [
      "161.6436326694745 kelvin\n",
      "161.6436326694745 kelvin\n"
     ]
    }
   ],
   "source": [
    "print(void_temp_rise(0.0, 0.0))\n",
    "print(void_temp_rise(0.0, 5))"
   ]
  },
  {
   "cell_type": "code",
   "execution_count": 170,
   "metadata": {},
   "outputs": [],
   "source": [
    "\"\"\"Testing block for void temperature rise.\"\"\"\n",
    "assert void_temp_rise(0.0, 0.0) == (power_frac*reactor_power/mdot/cp_na_l).to(\"K\")"
   ]
  },
  {
   "cell_type": "code",
   "execution_count": 171,
   "metadata": {},
   "outputs": [
    {
     "data": {
      "application/vnd.plotly.v1+json": {
       "config": {
        "plotlyServerURL": "https://plot.ly"
       },
       "data": [
        {
         "contours": {
          "x": {
           "end": 5,
           "show": true,
           "size": 0.5,
           "start": 0
          },
          "y": {
           "end": 1,
           "show": true,
           "size": 0.1,
           "start": 0
          }
         },
         "type": "surface",
         "x": [
          0,
          0.2631578947368421,
          0.5263157894736842,
          0.7894736842105263,
          1.0526315789473684,
          1.3157894736842104,
          1.5789473684210527,
          1.8421052631578947,
          2.1052631578947367,
          2.3684210526315788,
          2.631578947368421,
          2.894736842105263,
          3.1578947368421053,
          3.4210526315789473,
          3.6842105263157894,
          3.9473684210526314,
          4.2105263157894735,
          4.473684210526316,
          4.7368421052631575,
          5
         ],
         "y": [
          0,
          0.05263157894736842,
          0.10526315789473684,
          0.15789473684210525,
          0.21052631578947367,
          0.2631578947368421,
          0.3157894736842105,
          0.3684210526315789,
          0.42105263157894735,
          0.47368421052631576,
          0.5263157894736842,
          0.5789473684210527,
          0.631578947368421,
          0.6842105263157894,
          0.7368421052631579,
          0.7894736842105263,
          0.8421052631578947,
          0.894736842105263,
          0.9473684210526315,
          1
         ],
         "z": [
          [
           161.6436326694745,
           161.6436326694745,
           161.6436326694745,
           161.6436326694745,
           161.6436326694745,
           161.6436326694745,
           161.6436326694745,
           161.6436326694745,
           161.6436326694745,
           161.6436326694745,
           161.6436326694745,
           161.6436326694745,
           161.6436326694745,
           161.6436326694745,
           161.6436326694745,
           161.6436326694745,
           161.6436326694745,
           161.6436326694745,
           161.6436326694745,
           161.6436326694745
          ],
          [
           153.8264613845097,
           154.55362538943106,
           155.28422682303204,
           156.0182819346263,
           156.75580705034056,
           157.49681857347818,
           158.2413329848836,
           158.98936684330897,
           159.7409367857827,
           160.4960595279791,
           161.25475186459036,
           162.0170306697002,
           162.7829128971588,
           163.5524155809603,
           164.32555583562123,
           165.10235085656154,
           165.88281792048684,
           166.66697438577262,
           167.45483769285053,
           168.24642536459584
          ],
          [
           146.7304971925422,
           148.12212818313228,
           149.52695777149876,
           150.94511113664697,
           152.37671464481323,
           153.82189586072477,
           155.28078355896662,
           156.75350773545605,
           158.2401996190262,
           159.74099168311932,
           161.25601765759083,
           162.78541254062577,
           164.32931261076774,
           165.88785543906218,
           167.4611799013149,
           169.04942619046668,
           170.65273582908546,
           172.27125168197668,
           173.90511796891357,
           175.55448027748804
          ],
          [
           140.26033400541664,
           142.26206140588963,
           144.29235648812542,
           146.3516269562105,
           148.4402863327862,
           150.55875404208825,
           152.70745549417157,
           154.88682217033673,
           157.097291709776,
           159.3393079974559,
           161.6133212532535,
           163.91978812236556,
           166.2591717670074,
           168.6319419594206,
           171.03857517620813,
           173.4795546940158,
           175.955370686579,
           178.46652032315487,
           181.01350786835877,
           183.5968447834259
          ],
          [
           134.33668297514848,
           136.90105632319077,
           139.51438138362101,
           142.17759260311308,
           144.89164226613542,
           147.6575008354593,
           150.4761572991672,
           153.34861952428548,
           156.27591461716716,
           159.25908929075453,
           162.2992102388522,
           165.3973645175448,
           168.55465993389572,
           171.7722254420658,
           175.0512115469932,
           178.3927907157796,
           181.7981577969295,
           185.2685304475917,
           188.80514956895752,
           192.4092797499695
          ],
          [
           128.89310698893976,
           131.9784745442291,
           135.13769781743554,
           138.37254472339296,
           141.6848254962431,
           145.07639370245025,
           148.54914727806488,
           152.10502959081703,
           155.74603052763288,
           159.47418760818408,
           163.29158712509258,
           167.20036531142878,
           171.20270953615662,
           175.30085952819465,
           179.49710862977804,
           183.79380507982236,
           188.19335332800856,
           192.69821538032267,
           197.31091217680554,
           202.03402500228117
          ],
          [
           123.87351819144878,
           127.44312390316922,
           131.1155932868284,
           134.89389051714468,
           138.781065186084,
           142.7802547642895,
           146.89468713344047,
           151.12768319158516,
           155.4826595335504,
           159.96313120859128,
           164.57271455750669,
           169.31513013151087,
           174.19420569521643,
           179.21387931615322,
           184.3782025433164,
           189.69134367730905,
           195.15759113471915,
           200.78135690944617,
           206.56718013377127,
           212.51973074204486
          ],
          [
           119.23023832490607,
           123.25148804842391,
           127.40836149932896,
           131.70543282662848,
           136.14743045055874,
           140.7392422656544,
           145.48592101929947,
           150.39268987168037,
           155.46494814325732,
           160.70827725608018,
           166.12844687548488,
           171.73142125892988,
           177.52336581895807,
           183.51065390750597,
           189.6998738290264,
           196.09783609014008,
           202.7115808937953,
           209.54838588618088,
           216.6157741649175,
           223.92152255733953
          ],
          [
           114.92247954579832,
           119.36633981894947,
           123.9820367441233,
           128.77621495755113,
           133.75577603244585,
           138.9278884143251,
           144.299997740518,
           149.879837558709,
           155.67544045995052,
           161.69514964217004,
           167.94763092081945,
           174.4418852039552,
           181.18726144970984,
           188.19347012480674,
           195.47059718349337,
           203.02911858701643,
           210.87991538454102,
           219.03428937722344,
           227.50397938798798,
           236.30117816042815
          ],
          [
           110.91514308426073,
           115.755644729228,
           120.8073930581321,
           126.07960719013617,
           131.58190858046171,
           137.32433857893176,
           143.31737675479545,
           149.5719600212748,
           156.09950259473516,
           162.9119168249036,
           170.02163493414906,
           177.44163170549663,
           185.18544816078116,
           193.26721627214968,
           201.70168475201174,
           210.5042459685002,
           219.69096403556372,
           229.27860412895234,
           239.28466308159574,
           249.7274013142101
          ],
          [
           107.17786077827617,
           112.39168613651455,
           117.85914573104779,
           123.5925779739631,
           129.60492149762968,
           135.90974435330102,
           142.52127463012638,
           149.45443256366886,
           156.72486420639046,
           164.3489767360872,
           172.34397548195534,
           180.7279027518451,
           189.51967854832387,
           198.73914326543195,
           208.4071024624858,
           218.54537381596802,
           229.17683635546237,
           240.32548209474328,
           252.01647017453533,
           264.2761836391286
          ],
          [
           103.68422406438586,
           109.25036150769166,
           115.11530898036634,
           121.29510766618614,
           127.80665989665188,
           134.66777538045824,
           141.89721991472405,
           149.51476671121532,
           157.54125047794176,
           165.99862440404607,
           174.9100202038434,
           184.29981138423952,
           194.19367990856765,
           204.61868643917734,
           215.60334435089493,
           227.17769771778944,
           239.37340348654516,
           252.2238180611927,
           265.7640885360158,
           280.03124882616527
          ],
          [
           100.41115900200876,
           106.31061197726964,
           112.55667528701154,
           119.16971331492785,
           126.17128691256626,
           133.58422369535893,
           141.4326924687523,
           149.7422820270926,
           158.54008458217925,
           167.85478409349292,
           177.71674978808588,
           188.15813517504316,
           199.21298287733632,
           210.91733562285918,
           223.3093537565159,
           236.42943965649147,
           250.32036946034768,
           265.0274325304166,
           280.5985791131987,
           297.08457667418907
          ],
          [
           97.33841604932641,
           103.55395664406937,
           110.16639033049073,
           117.20106070080439,
           124.68492966127347,
           132.6466807695881,
           141.1168291708471,
           150.12783855349747,
           159.7142455734906,
           169.91279222353793,
           180.76256665479994,
           192.30515299073826,
           204.58479070732565,
           217.6485441904724,
           231.54648312053519,
           246.33187437527206,
           262.061386186752,
           278.79530533469597,
           296.59776820869035,
           315.5370066248679
          ],
          [
           94.44815073954148,
           100.96410983657952,
           107.9296036531629,
           115.37564550000566,
           123.33538828994743,
           131.84427214867767,
           140.94018220909425,
           150.66361729186363,
           161.05787022321908,
           172.16922059284784,
           184.04714081010678,
           196.74451637601484,
           210.31788135176703,
           224.8276700721731,
           240.33848622475796,
           256.91939049257365,
           274.6442080414332,
           293.5918572206265,
           313.84670094063307,
           335.4989222923142
          ],
          [
           91.72457690863602,
           98.52666459918422,
           105.83317976717933,
           113.68152961634745,
           122.11189538425147,
           131.16743805838206,
           140.89451934768985,
           151.34293904086798,
           162.56618996658958,
           174.62173186102098,
           187.57128554473192,
           201.48114891510195,
           216.42253637201043,
           232.47194341457003,
           249.71153827553235,
           268.2295825984158,
           288.12088331110175,
           309.4872780093562,
           332.4381563352992,
           357.0910200201246
          ],
          [
           89.15367824008227,
           96.22882940677884,
           103.8654578453027,
           112.10812185827531,
           121.00491585286267,
           130.60775096267085,
           140.97265793952855,
           152.16011408247377,
           164.23539611151398,
           177.26896104511238,
           191.33685730374984,
           206.5211684382741,
           222.91049207211017,
           240.6004568518678,
           259.694280422659,
           280.30337168380606,
           302.54798083899016,
           326.5579010337612,
           352.4732256743351,
           380.44516584648943
          ],
          [
           86.72296699671546,
           94.05920794913558,
           102.01605072337765,
           110.64599449766474,
           120.00597956466277,
           130.15776302302754,
           141.16832625019543,
           153.11031684491888,
           166.0625279554803,
           180.11041815618742,
           195.3466753022901,
           211.8718280836295,
           229.79490931204398,
           249.23417531889697,
           270.317886209305,
           293.1851521211765,
           317.98685107267056,
           344.8866244540264,
           374.0619567320075,
           405.70534649084374
          ],
          [
           84.42128117311621,
           92.00761398331947,
           100.2756759109611,
           109.28672904421873,
           119.10754065412316,
           129.81087790571107,
           141.4760470253073,
           154.1894809188897,
           168.0453795954864,
           183.14640814081332,
           199.60445741277798,
           217.54147309521218,
           237.09035925269575,
           258.39596308134713,
           281.61614815207946,
           306.92296409850127,
           334.50392141624894,
           364.56338081935814,
           397.3240674480898,
           433.02872114771566
          ],
          [
           82.23861311510714,
           90.06491490749193,
           98.63601281724013,
           108.0227859480658,
           118.30285866889872,
           129.56124253231246,
           141.89103928162032,
           155.39421076019056,
           170.18242208978174,
           186.3779650906033,
           204.11476957936557,
           223.5395109082991,
           244.81282290398815,
           268.11062623647524,
           293.62558320364815,
           321.56869096131766,
           352.17102637428036,
           385.6856569174932,
           422.38973342964897,
           462.5867820252816
          ]
         ]
        }
       ],
       "layout": {
        "scene": {
         "xaxis": {
          "title": {
           "text": "Time (s)"
          }
         },
         "yaxis": {
          "title": {
           "text": "Na void"
          }
         },
         "zaxis": {
          "title": {
           "text": "Delta T (K)"
          }
         }
        },
        "template": {
         "data": {
          "bar": [
           {
            "error_x": {
             "color": "#2a3f5f"
            },
            "error_y": {
             "color": "#2a3f5f"
            },
            "marker": {
             "line": {
              "color": "#E5ECF6",
              "width": 0.5
             },
             "pattern": {
              "fillmode": "overlay",
              "size": 10,
              "solidity": 0.2
             }
            },
            "type": "bar"
           }
          ],
          "barpolar": [
           {
            "marker": {
             "line": {
              "color": "#E5ECF6",
              "width": 0.5
             },
             "pattern": {
              "fillmode": "overlay",
              "size": 10,
              "solidity": 0.2
             }
            },
            "type": "barpolar"
           }
          ],
          "carpet": [
           {
            "aaxis": {
             "endlinecolor": "#2a3f5f",
             "gridcolor": "white",
             "linecolor": "white",
             "minorgridcolor": "white",
             "startlinecolor": "#2a3f5f"
            },
            "baxis": {
             "endlinecolor": "#2a3f5f",
             "gridcolor": "white",
             "linecolor": "white",
             "minorgridcolor": "white",
             "startlinecolor": "#2a3f5f"
            },
            "type": "carpet"
           }
          ],
          "choropleth": [
           {
            "colorbar": {
             "outlinewidth": 0,
             "ticks": ""
            },
            "type": "choropleth"
           }
          ],
          "contour": [
           {
            "colorbar": {
             "outlinewidth": 0,
             "ticks": ""
            },
            "colorscale": [
             [
              0,
              "#0d0887"
             ],
             [
              0.1111111111111111,
              "#46039f"
             ],
             [
              0.2222222222222222,
              "#7201a8"
             ],
             [
              0.3333333333333333,
              "#9c179e"
             ],
             [
              0.4444444444444444,
              "#bd3786"
             ],
             [
              0.5555555555555556,
              "#d8576b"
             ],
             [
              0.6666666666666666,
              "#ed7953"
             ],
             [
              0.7777777777777778,
              "#fb9f3a"
             ],
             [
              0.8888888888888888,
              "#fdca26"
             ],
             [
              1,
              "#f0f921"
             ]
            ],
            "type": "contour"
           }
          ],
          "contourcarpet": [
           {
            "colorbar": {
             "outlinewidth": 0,
             "ticks": ""
            },
            "type": "contourcarpet"
           }
          ],
          "heatmap": [
           {
            "colorbar": {
             "outlinewidth": 0,
             "ticks": ""
            },
            "colorscale": [
             [
              0,
              "#0d0887"
             ],
             [
              0.1111111111111111,
              "#46039f"
             ],
             [
              0.2222222222222222,
              "#7201a8"
             ],
             [
              0.3333333333333333,
              "#9c179e"
             ],
             [
              0.4444444444444444,
              "#bd3786"
             ],
             [
              0.5555555555555556,
              "#d8576b"
             ],
             [
              0.6666666666666666,
              "#ed7953"
             ],
             [
              0.7777777777777778,
              "#fb9f3a"
             ],
             [
              0.8888888888888888,
              "#fdca26"
             ],
             [
              1,
              "#f0f921"
             ]
            ],
            "type": "heatmap"
           }
          ],
          "heatmapgl": [
           {
            "colorbar": {
             "outlinewidth": 0,
             "ticks": ""
            },
            "colorscale": [
             [
              0,
              "#0d0887"
             ],
             [
              0.1111111111111111,
              "#46039f"
             ],
             [
              0.2222222222222222,
              "#7201a8"
             ],
             [
              0.3333333333333333,
              "#9c179e"
             ],
             [
              0.4444444444444444,
              "#bd3786"
             ],
             [
              0.5555555555555556,
              "#d8576b"
             ],
             [
              0.6666666666666666,
              "#ed7953"
             ],
             [
              0.7777777777777778,
              "#fb9f3a"
             ],
             [
              0.8888888888888888,
              "#fdca26"
             ],
             [
              1,
              "#f0f921"
             ]
            ],
            "type": "heatmapgl"
           }
          ],
          "histogram": [
           {
            "marker": {
             "pattern": {
              "fillmode": "overlay",
              "size": 10,
              "solidity": 0.2
             }
            },
            "type": "histogram"
           }
          ],
          "histogram2d": [
           {
            "colorbar": {
             "outlinewidth": 0,
             "ticks": ""
            },
            "colorscale": [
             [
              0,
              "#0d0887"
             ],
             [
              0.1111111111111111,
              "#46039f"
             ],
             [
              0.2222222222222222,
              "#7201a8"
             ],
             [
              0.3333333333333333,
              "#9c179e"
             ],
             [
              0.4444444444444444,
              "#bd3786"
             ],
             [
              0.5555555555555556,
              "#d8576b"
             ],
             [
              0.6666666666666666,
              "#ed7953"
             ],
             [
              0.7777777777777778,
              "#fb9f3a"
             ],
             [
              0.8888888888888888,
              "#fdca26"
             ],
             [
              1,
              "#f0f921"
             ]
            ],
            "type": "histogram2d"
           }
          ],
          "histogram2dcontour": [
           {
            "colorbar": {
             "outlinewidth": 0,
             "ticks": ""
            },
            "colorscale": [
             [
              0,
              "#0d0887"
             ],
             [
              0.1111111111111111,
              "#46039f"
             ],
             [
              0.2222222222222222,
              "#7201a8"
             ],
             [
              0.3333333333333333,
              "#9c179e"
             ],
             [
              0.4444444444444444,
              "#bd3786"
             ],
             [
              0.5555555555555556,
              "#d8576b"
             ],
             [
              0.6666666666666666,
              "#ed7953"
             ],
             [
              0.7777777777777778,
              "#fb9f3a"
             ],
             [
              0.8888888888888888,
              "#fdca26"
             ],
             [
              1,
              "#f0f921"
             ]
            ],
            "type": "histogram2dcontour"
           }
          ],
          "mesh3d": [
           {
            "colorbar": {
             "outlinewidth": 0,
             "ticks": ""
            },
            "type": "mesh3d"
           }
          ],
          "parcoords": [
           {
            "line": {
             "colorbar": {
              "outlinewidth": 0,
              "ticks": ""
             }
            },
            "type": "parcoords"
           }
          ],
          "pie": [
           {
            "automargin": true,
            "type": "pie"
           }
          ],
          "scatter": [
           {
            "fillpattern": {
             "fillmode": "overlay",
             "size": 10,
             "solidity": 0.2
            },
            "type": "scatter"
           }
          ],
          "scatter3d": [
           {
            "line": {
             "colorbar": {
              "outlinewidth": 0,
              "ticks": ""
             }
            },
            "marker": {
             "colorbar": {
              "outlinewidth": 0,
              "ticks": ""
             }
            },
            "type": "scatter3d"
           }
          ],
          "scattercarpet": [
           {
            "marker": {
             "colorbar": {
              "outlinewidth": 0,
              "ticks": ""
             }
            },
            "type": "scattercarpet"
           }
          ],
          "scattergeo": [
           {
            "marker": {
             "colorbar": {
              "outlinewidth": 0,
              "ticks": ""
             }
            },
            "type": "scattergeo"
           }
          ],
          "scattergl": [
           {
            "marker": {
             "colorbar": {
              "outlinewidth": 0,
              "ticks": ""
             }
            },
            "type": "scattergl"
           }
          ],
          "scattermapbox": [
           {
            "marker": {
             "colorbar": {
              "outlinewidth": 0,
              "ticks": ""
             }
            },
            "type": "scattermapbox"
           }
          ],
          "scatterpolar": [
           {
            "marker": {
             "colorbar": {
              "outlinewidth": 0,
              "ticks": ""
             }
            },
            "type": "scatterpolar"
           }
          ],
          "scatterpolargl": [
           {
            "marker": {
             "colorbar": {
              "outlinewidth": 0,
              "ticks": ""
             }
            },
            "type": "scatterpolargl"
           }
          ],
          "scatterternary": [
           {
            "marker": {
             "colorbar": {
              "outlinewidth": 0,
              "ticks": ""
             }
            },
            "type": "scatterternary"
           }
          ],
          "surface": [
           {
            "colorbar": {
             "outlinewidth": 0,
             "ticks": ""
            },
            "colorscale": [
             [
              0,
              "#0d0887"
             ],
             [
              0.1111111111111111,
              "#46039f"
             ],
             [
              0.2222222222222222,
              "#7201a8"
             ],
             [
              0.3333333333333333,
              "#9c179e"
             ],
             [
              0.4444444444444444,
              "#bd3786"
             ],
             [
              0.5555555555555556,
              "#d8576b"
             ],
             [
              0.6666666666666666,
              "#ed7953"
             ],
             [
              0.7777777777777778,
              "#fb9f3a"
             ],
             [
              0.8888888888888888,
              "#fdca26"
             ],
             [
              1,
              "#f0f921"
             ]
            ],
            "type": "surface"
           }
          ],
          "table": [
           {
            "cells": {
             "fill": {
              "color": "#EBF0F8"
             },
             "line": {
              "color": "white"
             }
            },
            "header": {
             "fill": {
              "color": "#C8D4E3"
             },
             "line": {
              "color": "white"
             }
            },
            "type": "table"
           }
          ]
         },
         "layout": {
          "annotationdefaults": {
           "arrowcolor": "#2a3f5f",
           "arrowhead": 0,
           "arrowwidth": 1
          },
          "autotypenumbers": "strict",
          "coloraxis": {
           "colorbar": {
            "outlinewidth": 0,
            "ticks": ""
           }
          },
          "colorscale": {
           "diverging": [
            [
             0,
             "#8e0152"
            ],
            [
             0.1,
             "#c51b7d"
            ],
            [
             0.2,
             "#de77ae"
            ],
            [
             0.3,
             "#f1b6da"
            ],
            [
             0.4,
             "#fde0ef"
            ],
            [
             0.5,
             "#f7f7f7"
            ],
            [
             0.6,
             "#e6f5d0"
            ],
            [
             0.7,
             "#b8e186"
            ],
            [
             0.8,
             "#7fbc41"
            ],
            [
             0.9,
             "#4d9221"
            ],
            [
             1,
             "#276419"
            ]
           ],
           "sequential": [
            [
             0,
             "#0d0887"
            ],
            [
             0.1111111111111111,
             "#46039f"
            ],
            [
             0.2222222222222222,
             "#7201a8"
            ],
            [
             0.3333333333333333,
             "#9c179e"
            ],
            [
             0.4444444444444444,
             "#bd3786"
            ],
            [
             0.5555555555555556,
             "#d8576b"
            ],
            [
             0.6666666666666666,
             "#ed7953"
            ],
            [
             0.7777777777777778,
             "#fb9f3a"
            ],
            [
             0.8888888888888888,
             "#fdca26"
            ],
            [
             1,
             "#f0f921"
            ]
           ],
           "sequentialminus": [
            [
             0,
             "#0d0887"
            ],
            [
             0.1111111111111111,
             "#46039f"
            ],
            [
             0.2222222222222222,
             "#7201a8"
            ],
            [
             0.3333333333333333,
             "#9c179e"
            ],
            [
             0.4444444444444444,
             "#bd3786"
            ],
            [
             0.5555555555555556,
             "#d8576b"
            ],
            [
             0.6666666666666666,
             "#ed7953"
            ],
            [
             0.7777777777777778,
             "#fb9f3a"
            ],
            [
             0.8888888888888888,
             "#fdca26"
            ],
            [
             1,
             "#f0f921"
            ]
           ]
          },
          "colorway": [
           "#636efa",
           "#EF553B",
           "#00cc96",
           "#ab63fa",
           "#FFA15A",
           "#19d3f3",
           "#FF6692",
           "#B6E880",
           "#FF97FF",
           "#FECB52"
          ],
          "font": {
           "color": "#2a3f5f"
          },
          "geo": {
           "bgcolor": "white",
           "lakecolor": "white",
           "landcolor": "#E5ECF6",
           "showlakes": true,
           "showland": true,
           "subunitcolor": "white"
          },
          "hoverlabel": {
           "align": "left"
          },
          "hovermode": "closest",
          "mapbox": {
           "style": "light"
          },
          "paper_bgcolor": "white",
          "plot_bgcolor": "#E5ECF6",
          "polar": {
           "angularaxis": {
            "gridcolor": "white",
            "linecolor": "white",
            "ticks": ""
           },
           "bgcolor": "#E5ECF6",
           "radialaxis": {
            "gridcolor": "white",
            "linecolor": "white",
            "ticks": ""
           }
          },
          "scene": {
           "xaxis": {
            "backgroundcolor": "#E5ECF6",
            "gridcolor": "white",
            "gridwidth": 2,
            "linecolor": "white",
            "showbackground": true,
            "ticks": "",
            "zerolinecolor": "white"
           },
           "yaxis": {
            "backgroundcolor": "#E5ECF6",
            "gridcolor": "white",
            "gridwidth": 2,
            "linecolor": "white",
            "showbackground": true,
            "ticks": "",
            "zerolinecolor": "white"
           },
           "zaxis": {
            "backgroundcolor": "#E5ECF6",
            "gridcolor": "white",
            "gridwidth": 2,
            "linecolor": "white",
            "showbackground": true,
            "ticks": "",
            "zerolinecolor": "white"
           }
          },
          "shapedefaults": {
           "line": {
            "color": "#2a3f5f"
           }
          },
          "ternary": {
           "aaxis": {
            "gridcolor": "white",
            "linecolor": "white",
            "ticks": ""
           },
           "baxis": {
            "gridcolor": "white",
            "linecolor": "white",
            "ticks": ""
           },
           "bgcolor": "#E5ECF6",
           "caxis": {
            "gridcolor": "white",
            "linecolor": "white",
            "ticks": ""
           }
          },
          "title": {
           "x": 0.05
          },
          "xaxis": {
           "automargin": true,
           "gridcolor": "white",
           "linecolor": "white",
           "ticks": "",
           "title": {
            "standoff": 15
           },
           "zerolinecolor": "white",
           "zerolinewidth": 2
          },
          "yaxis": {
           "automargin": true,
           "gridcolor": "white",
           "linecolor": "white",
           "ticks": "",
           "title": {
            "standoff": 15
           },
           "zerolinecolor": "white",
           "zerolinewidth": 2
          }
         }
        },
        "title": {
         "text": "Limiting assembly Delta-T as a function of Na void fraction and time."
        }
       }
      }
     },
     "metadata": {},
     "output_type": "display_data"
    }
   ],
   "source": [
    "\"\"\"Last pretty picture.\"\"\"\n",
    "temp_surface = np.empty([alpha_array.size, time_array.size])\n",
    "\n",
    "# Loop over the void and time range to fill in the power surface\n",
    "for i in range(alpha_array.size):\n",
    "    for j in range(time_array.size):\n",
    "        temp_surface[i][j] = void_temp_rise(alpha_array[i], time_array[j]).m\n",
    "\n",
    "fig = go.Figure(\n",
    "    data=go.Surface(\n",
    "        x=time_array, \n",
    "        y=alpha_array,\n",
    "        z=temp_surface,\n",
    "        contours = {\n",
    "            'x': {'show': True, 'start': 0, 'end': 5, 'size': 0.5},\n",
    "            'y': {'show': True, 'start': 0, 'end': 1, 'size': 0.1}\n",
    "        }\n",
    "    )\n",
    ")\n",
    "fig.update_layout(\n",
    "    title=\"Limiting assembly Delta-T as a function of Na void fraction and time.\",\n",
    "    scene = dict(\n",
    "        xaxis_title=\"Time (s)\",\n",
    "        yaxis_title=\"Na void\",\n",
    "        zaxis_title=\"Delta T (K)\"\n",
    "    )\n",
    ")\n",
    "fig.show()\n"
   ]
  }
 ],
 "metadata": {
  "kernelspec": {
   "display_name": "Python 3.10.6 ('miniproj')",
   "language": "python",
   "name": "python3"
  },
  "language_info": {
   "codemirror_mode": {
    "name": "ipython",
    "version": 3
   },
   "file_extension": ".py",
   "mimetype": "text/x-python",
   "name": "python",
   "nbconvert_exporter": "python",
   "pygments_lexer": "ipython3",
   "version": "3.10.6"
  },
  "orig_nbformat": 4,
  "vscode": {
   "interpreter": {
    "hash": "9ee234d6533235b615721f382b997905935b26510caf3064cf1801eb0e2da607"
   }
  }
 },
 "nbformat": 4,
 "nbformat_minor": 2
}
